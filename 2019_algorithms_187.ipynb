{
 "cells": [
  {
   "cell_type": "code",
   "execution_count": 10,
   "metadata": {},
   "outputs": [],
   "source": [
    "# %pip install statsmodels\n",
    "# %pip install patsy\n"
   ]
  },
  {
   "cell_type": "code",
   "execution_count": 11,
   "metadata": {},
   "outputs": [],
   "source": [
    "import pandas as pd \n",
    "import math\n",
    "import matplotlib.pyplot as plt\n",
    "import numpy as np\n",
    "import datetime\n",
    "from scipy.stats import chi2_contingency\n",
    "import pandas as pd\n",
    "import numpy as np\n",
    "from sklearn import preprocessing, neighbors, svm\n",
    "from sklearn.model_selection import train_test_split\n",
    "from sklearn.preprocessing import OneHotEncoder\n",
    "from sklearn.model_selection import cross_val_score\n",
    "from sklearn.linear_model import SGDRegressor\n",
    "from sklearn.metrics import mean_squared_error,mean_absolute_error\n",
    "import pickle\n",
    "import statsmodels.api as sm\n",
    "import statsmodels.formula.api as smf\n",
    "import scipy.stats as stats\n",
    "import seaborn as sns\n",
    "from sklearn.tree import DecisionTreeClassifier # Import Decision Tree Classifier\n",
    "from sklearn import metrics #Import scikit-learn metrics module for accuracy calculation\n",
    "\n",
    "df = pd.read_csv('data/2019 Line 187 allscripts.csv')\n",
    "df.head()\n",
    "df['Actual Depart Hour'] = df['Actual Depart'].str.split(':',expand=True)[0]\n",
    "df['Actual Depart Hour'] = df['Actual Depart Hour'].astype(int)\n",
    "df['Transit Date Month'] = df['Transit Date'].str.split('/',expand=True)[0]\n",
    "df['Transit Date Month'] = df['Transit Date Month'].astype(int)"
   ]
  },
  {
   "cell_type": "code",
   "execution_count": 12,
   "metadata": {},
   "outputs": [
    {
     "name": "stderr",
     "output_type": "stream",
     "text": [
      "/var/folders/sl/46hc8zqn0l9_kwvskdqj7z8h0000gn/T/ipykernel_5864/1621572889.py:24: FutureWarning: In a future version of pandas all arguments of DataFrame.drop except for the argument 'labels' will be keyword-only\n",
      "  df1.drop(['Transit Date', 'Badge #', 'Block #', 'Stop Sequence', 'Latitude', 'Longitude', 'Actual Arrival', 'Dwell Time', \\\n",
      "/var/folders/sl/46hc8zqn0l9_kwvskdqj7z8h0000gn/T/ipykernel_5864/1621572889.py:28: FutureWarning: In a future version of pandas all arguments of DataFrame.drop except for the argument 'labels' will be keyword-only\n",
      "  X = np.array(df1.drop(['Difference (Minutes)'],1)) #using everything except class to train\n"
     ]
    },
    {
     "name": "stdout",
     "output_type": "stream",
     "text": [
      "CPU times: user 947 ms, sys: 29.6 ms, total: 976 ms\n",
      "Wall time: 977 ms\n"
     ]
    },
    {
     "data": {
      "image/png": "[encoded data removed]",
      "text/plain": [
       "<Figure size 432x288 with 1 Axes>"
      ]
     },
     "metadata": {
      "needs_background": "light"
     },
     "output_type": "display_data"
    },
    {
     "name": "stdout",
     "output_type": "stream",
     "text": [
      "Root Mean Squared Error : 6.573854567792417\n",
      "Mean Absolute Error : 3.465932735595657\n"
     ]
    },
    {
     "name": "stderr",
     "output_type": "stream",
     "text": [
      "/Users/jairadhakrishnan/opt/anaconda3/lib/python3.9/site-packages/sklearn/model_selection/_split.py:666: UserWarning: The least populated class in y has only 1 members, which is less than n_splits=5.\n",
      "  warnings.warn((\"The least populated class in y has only %d\"\n"
     ]
    },
    {
     "name": "stdout",
     "output_type": "stream",
     "text": [
      "[0.31530168 0.3258937  0.31738226 0.3210367  0.3183882 ]\n",
      "0.32 accuracy with a standard deviation of 0.00\n"
     ]
    }
   ],
   "source": [
    "df1 = df.copy()\n",
    "# df1 = df.loc[(df['Bus Stop ID'] == 775) | (df['Bus Stop ID'] == 782) | (df['Bus Stop ID'] == 733)]\n",
    "#df1 = df.loc[(df['Bus Stop ID'] != 177)]\n",
    "#df1 = df1.loc[(df1['Bus Stop ID'] != 738)]\n",
    "#df1 = df1.loc[(df1['Bus Stop ID'] != 2199)]\n",
    "#df1 = df1.loc[(df1['Bus Stop ID'] != 2384)]\n",
    "\n",
    "df1 = pd.get_dummies(df1, columns=['Actual Depart Hour', 'Transit Date Month', 'Day of Week', \\\n",
    "    'Miles from Prior Time Point', 'Bus Stop ID'],prefix=['Enc_Hour_', 'Enc_Month_', 'Enc_Day_',\\\n",
    "        'Enc_Miles_', 'Enc_Stop_'])\n",
    "# df1 = pd.get_dummies(df1, columns=['Actual Depart Hour', 'Transit Date Month', 'Day of Week', \\\n",
    "#     'Miles from Prior Time Point'],prefix=['Enc_Hour_', 'Enc_Month_', 'Enc_Day_',\\\n",
    "#         'Enc_Miles_'])\n",
    "# df1 = pd.get_dummies(df1, columns=['Transit Date Month'],prefix=['Enc_Month_'])\n",
    "\n",
    "# df1['Transit Date Month'] = df1['Transit Date'].str.split('/',expand=True)[0]\n",
    "df1.fillna(value = -9999)\n",
    "enc = OneHotEncoder(handle_unknown='ignore')\n",
    "\n",
    "df1['Difference (Minutes)'] = df1['Difference (Minutes)'].astype(int)\n",
    "df1['Prev Departure Offset'] = df1['Prev Departure Offset'].astype(int)\n",
    "df1.head()\n",
    "# df.replace('?', -99999, inplace=True) #sees -99999 as outlier, ignores it\n",
    "df1.drop(['Transit Date', 'Badge #', 'Block #', 'Stop Sequence', 'Latitude', 'Longitude', 'Actual Arrival', 'Dwell Time', \\\n",
    "    'Scheduled Run Time', 'Actual Run Time', 'Actual Depart', 'Prev Departure Offset'], 1, inplace=True)\n",
    "# print(df1.head)\n",
    "# pd.to_numeric(df1['Actual Operating Speed'], errors='coerce')\n",
    "X = np.array(df1.drop(['Difference (Minutes)'],1)) #using everything except class to train\n",
    "Y = np.array(df1['Difference (Minutes)']) #class is the final result obviously\n",
    "np.nan_to_num(X)\n",
    "np.nan_to_num(Y)\n",
    "pd.isnull(X)\n",
    "np.nan_to_num(X)\n",
    "\n",
    "X_train, X_test, Y_train, Y_test = train_test_split(X,Y, test_size=0.2)\n",
    "\n",
    "# lr_sgd = SGDRegressor(loss='huber', penalty='l1')\n",
    "# lr_sgd = SGDRegressor(penalty='elasticnet')\n",
    "lr_sgd = DecisionTreeClassifier()\n",
    "\n",
    "%time lr_sgd.fit(X_train, Y_train)\n",
    "\n",
    "filename = 'models/2019_lr_sgd_model_9_15.sav'\n",
    "pickle.dump(lr_sgd, open(filename, 'wb'))\n",
    "\n",
    "plt.scatter(Y_test, lr_sgd.predict(X_test))\n",
    "plt.grid()\n",
    "plt.xlabel('Actual y')\n",
    "plt.ylabel('Predicted y')\n",
    "plt.title('scatter plot between actual y and predicted y')\n",
    "plt.show()\n",
    "print('Root Mean Squared Error :',math.sqrt(mean_squared_error(Y_test, lr_sgd.predict(X_test))))\n",
    "print('Mean Absolute Error :',mean_absolute_error(Y_test, lr_sgd.predict(X_test)))\n",
    "\n",
    "scores = cross_val_score(lr_sgd, X_test, Y_test, cv=5)\n",
    "\n",
    "print(scores)\n",
    "print(\"%0.2f accuracy with a standard deviation of %0.2f\" % (scores.mean(), scores.std()))\n",
    "\n",
    "# fig, ax = plt.subplots(nrows=1, ncols=1, figsize=(10,4), sharey=True)\n",
    "# ax.plot(X_train, clf.fit(X_train, Y_train).predict(X_train), lw=2)\n",
    "# ax.scatter(X_train[clf.support_], Y_train[clf.support_], facecolor=\"none\",s=50)\n",
    "# # ax.scatter(X_test[np.setdiff1d(np.arange(len(X_test)),clf.support_)],\n",
    "# #            Y_test[np.setdiff1d(np.arange(len(X_test)), clf.support_)],\n",
    "# #            facecolor=\"none\", edgecolor=\"k\", s=50)\n",
    "\n",
    "\n",
    "# fig.text(0.5, 0.04, 'data', ha='center', va='center')\n",
    "# fig.text(0.06, 0.5, 'target', ha='center', va='center', rotation='vertical')\n",
    "# fig.suptitle(\"Support Vector Regression\", fontsize=14)\n",
    "# plt.show()"
   ]
  },
  {
   "cell_type": "code",
   "execution_count": null,
   "metadata": {},
   "outputs": [],
   "source": []
  }
 ],
 "metadata": {
  "interpreter": {
   "hash": "663818bb3c4314dbd47e58b8e65a777ad8ae38914e19ed23958843e13f85a1f6"
  },
  "kernelspec": {
   "display_name": "Python 3.7.4 64-bit",
   "name": "python3"
  },
  "language_info": {
   "codemirror_mode": {
    "name": "ipython",
    "version": 3
   },
   "file_extension": ".py",
   "mimetype": "text/x-python",
   "name": "python",
   "nbconvert_exporter": "python",
   "pygments_lexer": "ipython3",
   "version": "3.9.7"
  },
  "orig_nbformat": 4
 },
 "nbformat": 4,
 "nbformat_minor": 2
}
