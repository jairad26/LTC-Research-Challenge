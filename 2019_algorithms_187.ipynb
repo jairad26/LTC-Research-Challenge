{
 "cells": [
  {
   "cell_type": "code",
   "execution_count": null,
   "metadata": {},
   "outputs": [],
   "source": [
    "# %pip install statsmodels\n",
    "# %pip install patsy\n"
   ]
  },
  {
   "cell_type": "code",
   "execution_count": 16,
   "metadata": {},
   "outputs": [],
   "source": [
    "import pandas as pd \n",
    "import math\n",
    "import matplotlib.pyplot as plt\n",
    "import numpy as np\n",
    "import datetime\n",
    "from scipy.stats import chi2_contingency\n",
    "import pandas as pd\n",
    "import numpy as np\n",
    "from sklearn import preprocessing, neighbors, svm\n",
    "from sklearn.model_selection import train_test_split\n",
    "from sklearn.preprocessing import OneHotEncoder\n",
    "from sklearn.model_selection import cross_val_score\n",
    "from sklearn.linear_model import SGDRegressor\n",
    "from sklearn.metrics import mean_squared_error,mean_absolute_error\n",
    "import pickle\n",
    "import statsmodels.api as sm\n",
    "import statsmodels.formula.api as smf\n",
    "import scipy.stats as stats\n",
    "import seaborn as sns\n",
    "\n",
    "df = pd.read_csv('data/2019 Line 187 allscripts.csv')\n",
    "df.head()\n",
    "df['Actual Depart Hour'] = df['Actual Depart'].str.split(':',expand=True)[0]\n",
    "df['Actual Depart Hour'] = df['Actual Depart Hour'].astype(int)\n",
    "df['Transit Date Month'] = df['Transit Date'].str.split('/',expand=True)[0]\n",
    "df['Transit Date Month'] = df['Transit Date Month'].astype(int)"
   ]
  },
  {
   "cell_type": "code",
   "execution_count": 19,
   "metadata": {},
   "outputs": [
    {
     "name": "stderr",
     "output_type": "stream",
     "text": [
      "C:\\Users\\danie\\AppData\\Local\\Temp/ipykernel_13036/3071746808.py:24: FutureWarning: In a future version of pandas all arguments of DataFrame.drop except for the argument 'labels' will be keyword-only\n",
      "  df1.drop(['Transit Date', 'Badge #', 'Block #', 'Stop Sequence', 'Latitude', 'Longitude', 'Actual Arrival', 'Dwell Time', \\\n",
      "C:\\Users\\danie\\AppData\\Local\\Temp/ipykernel_13036/3071746808.py:28: FutureWarning: In a future version of pandas all arguments of DataFrame.drop except for the argument 'labels' will be keyword-only\n",
      "  X = np.array(df1.drop(['Difference (Minutes)'],1)) #using everything except class to train\n"
     ]
    },
    {
     "name": "stdout",
     "output_type": "stream",
     "text": [
      "Wall time: 25 s\n"
     ]
    },
    {
     "data": {
      "image/png": "[encoded data removed]",
      "text/plain": [
       "<Figure size 432x288 with 1 Axes>"
      ]
     },
     "metadata": {
      "needs_background": "light"
     },
     "output_type": "display_data"
    },
    {
     "name": "stdout",
     "output_type": "stream",
     "text": [
      "Root Mean Squared Error : 5.7237209438519185\n",
      "Mean Absolute Error : 3.162807167837386\n",
      "[-0.0762856  -0.07406862 -0.07065559 -0.07234193 -0.06487109]\n",
      "-0.07 accuracy with a standard deviation of 0.00\n"
     ]
    }
   ],
   "source": [
    "df1 = df.copy()\n",
    "# df1 = df.loc[(df['Bus Stop ID'] == 775) | (df['Bus Stop ID'] == 782) | (df['Bus Stop ID'] == 733)]\n",
    "#df1 = df.loc[(df['Bus Stop ID'] != 177)]\n",
    "#df1 = df1.loc[(df1['Bus Stop ID'] != 738)]\n",
    "#df1 = df1.loc[(df1['Bus Stop ID'] != 2199)]\n",
    "#df1 = df1.loc[(df1['Bus Stop ID'] != 2384)]\n",
    "\n",
    "df1 = pd.get_dummies(df1, columns=['Actual Depart Hour', 'Transit Date Month', 'Day of Week', \\\n",
    "    'Miles from Prior Time Point', 'Bus Stop ID'],prefix=['Enc_Hour_', 'Enc_Month_', 'Enc_Day_',\\\n",
    "        'Enc_Miles_', 'Enc_Stop_'])\n",
    "# df1 = pd.get_dummies(df1, columns=['Actual Depart Hour', 'Transit Date Month', 'Day of Week', \\\n",
    "#     'Miles from Prior Time Point'],prefix=['Enc_Hour_', 'Enc_Month_', 'Enc_Day_',\\\n",
    "#         'Enc_Miles_'])\n",
    "# df1 = pd.get_dummies(df1, columns=['Transit Date Month'],prefix=['Enc_Month_'])\n",
    "\n",
    "# df1['Transit Date Month'] = df1['Transit Date'].str.split('/',expand=True)[0]\n",
    "df1.fillna(value = -9999)\n",
    "enc = OneHotEncoder(handle_unknown='ignore')\n",
    "\n",
    "df1['Difference (Minutes)'] = df1['Difference (Minutes)'].astype(int)\n",
    "df1['Prev Departure Offset'] = df1['Prev Departure Offset'].astype(int)\n",
    "df1.head()\n",
    "# df.replace('?', -99999, inplace=True) #sees -99999 as outlier, ignores it\n",
    "df1.drop(['Transit Date', 'Badge #', 'Block #', 'Stop Sequence', 'Latitude', 'Longitude', 'Actual Arrival', 'Dwell Time', \\\n",
    "    'Scheduled Run Time', 'Actual Run Time', 'Actual Depart', 'Prev Departure Offset'], 1, inplace=True)\n",
    "# print(df1.head)\n",
    "# pd.to_numeric(df1['Actual Operating Speed'], errors='coerce')\n",
    "X = np.array(df1.drop(['Difference (Minutes)'],1)) #using everything except class to train\n",
    "Y = np.array(df1['Difference (Minutes)']) #class is the final result obviously\n",
    "np.nan_to_num(X)\n",
    "np.nan_to_num(Y)\n",
    "pd.isnull(X)\n",
    "np.nan_to_num(X)\n",
    "\n",
    "X_train, X_test, Y_train, Y_test = train_test_split(X,Y, test_size=0.2)\n",
    "\n",
    "# lr_sgd = SGDRegressor(loss='huber', penalty='l1')\n",
    "lr_sgd = SGDRegressor(loss='huber', penalty='elasticnet')\n",
    "%time lr_sgd.fit(X_train, Y_train)\n",
    "\n",
    "filename = 'models/2019_lr_sgd_model_9_15.sav'\n",
    "pickle.dump(lr_sgd, open(filename, 'wb'))\n",
    "\n",
    "plt.scatter(Y_test, lr_sgd.predict(X_test))\n",
    "plt.grid()\n",
    "plt.xlabel('Actual y')\n",
    "plt.ylabel('Predicted y')\n",
    "plt.title('scatter plot between actual y and predicted y')\n",
    "plt.show()\n",
    "print('Root Mean Squared Error :',math.sqrt(mean_squared_error(Y_test, lr_sgd.predict(X_test))))\n",
    "print('Mean Absolute Error :',mean_absolute_error(Y_test, lr_sgd.predict(X_test)))\n",
    "\n",
    "scores = cross_val_score(lr_sgd, X_test, Y_test, cv=5)\n",
    "\n",
    "print(scores)\n",
    "print(\"%0.2f accuracy with a standard deviation of %0.2f\" % (scores.mean(), scores.std()))\n",
    "\n",
    "# fig, ax = plt.subplots(nrows=1, ncols=1, figsize=(10,4), sharey=True)\n",
    "# ax.plot(X_train, clf.fit(X_train, Y_train).predict(X_train), lw=2)\n",
    "# ax.scatter(X_train[clf.support_], Y_train[clf.support_], facecolor=\"none\",s=50)\n",
    "# # ax.scatter(X_test[np.setdiff1d(np.arange(len(X_test)),clf.support_)],\n",
    "# #            Y_test[np.setdiff1d(np.arange(len(X_test)), clf.support_)],\n",
    "# #            facecolor=\"none\", edgecolor=\"k\", s=50)\n",
    "\n",
    "\n",
    "# fig.text(0.5, 0.04, 'data', ha='center', va='center')\n",
    "# fig.text(0.06, 0.5, 'target', ha='center', va='center', rotation='vertical')\n",
    "# fig.suptitle(\"Support Vector Regression\", fontsize=14)\n",
    "# plt.show()"
   ]
  },
  {
   "cell_type": "code",
   "execution_count": null,
   "metadata": {},
   "outputs": [],
   "source": [
    "\n",
    "# df1 = df.copy()\n",
    "# df1 = df.loc[(df['Bus Stop ID'] == 775) | (df['Bus Stop ID'] == 782) | (df['Bus Stop ID'] == 733)]\n",
    "\n",
    "\n",
    "\n",
    "\n",
    "\n",
    "#################################################################################\n",
    "# df1 = df.loc[(df['Bus Stop ID'] != 177)]\n",
    "# df1 = df1.loc[(df1['Bus Stop ID'] != 738)]\n",
    "# df1 = df1.loc[(df1['Bus Stop ID'] != 2199)]\n",
    "# df1 = df1.loc[(df1['Bus Stop ID'] != 2384)]\n",
    "\n",
    "# df1 = pd.get_dummies(df1, columns=['Actual Depart Hour', 'Transit Date Month', 'Day of Week', \\\n",
    "#     'Miles from Prior Time Point', 'Bus Stop ID'],prefix=['Enc_Hour_', 'Enc_Month_', 'Enc_Day_',\\\n",
    "#         'Enc_Miles_', 'Enc_Stop_'])\n",
    "# # df1 = pd.get_dummies(df1, columns=['Actual Depart Hour', 'Transit Date Month', 'Day of Week', \\\n",
    "# #     'Miles from Prior Time Point'],prefix=['Enc_Hour_', 'Enc_Month_', 'Enc_Day_',\\\n",
    "# #         'Enc_Miles_'])\n",
    "# # df1 = pd.get_dummies(df1, columns=['Transit Date Month'],prefix=['Enc_Month_'])\n",
    "\n",
    "# # df1['Transit Date Month'] = df1['Transit Date'].str.split('/',expand=True)[0]\n",
    "# df1.fillna(value = -9999)\n",
    "# enc = OneHotEncoder(handle_unknown='ignore')\n",
    "\n",
    "# df1['Difference (Minutes)'] = df1['Difference (Minutes)'].astype(int)\n",
    "# df1['Prev Departure Offset'] = df1['Prev Departure Offset'].astype(int)\n",
    "# # df1['Transit Date Month'] = df1['Transit Date Month'].astype(int)\n",
    "\n",
    "# # df.replace('?', -99999, inplace=True) #sees -99999 as outlier, ignores it\n",
    "# df1.drop(['Transit Date', 'Vehicle #', 'Block #', 'Route #', 'Trip #', 'Direction',\\\n",
    "#     'Pattern','Bus Stop Name', 'Stop Sequence','Latitude','Longitude','Scheduled Depart','Actual Depart',\\\n",
    "#         'Initial Performance Result','Reported Performance Results','Actual Arrival','Waivers',\\\n",
    "#             'Dwell Time', 'Actual Run Time', 'Scheduled Operating Speed','Actual Operating Speed',\\\n",
    "#                 'Run Time Variance','Day Type','Time Period', 'Scheduled Run Time',\\\n",
    "#                         'Scheduled Depart DateTime', 'Actual Depart DateTime', \\\n",
    "#                             'Same Stop Prev Trip Departure Offset'\\\n",
    "#                                 ], 1, inplace=True)\n",
    "# print(df1.head)\n",
    "# # pd.to_numeric(df1['Actual Operating Speed'], errors='coerce')\n",
    "# X = np.array(df1.drop(['Difference (Minutes)'],1)) #using everything except class to train\n",
    "# Y = np.array(df1['Difference (Minutes)']) #class is the final result obviously\n",
    "# np.nan_to_num(X)\n",
    "# np.nan_to_num(Y)\n",
    "# pd.isnull(X)\n",
    "# np.nan_to_num(X)\n",
    "\n",
    "# X_train, X_test, Y_train, Y_test = train_test_split(X,Y, test_size=0.2)\n",
    "\n",
    "# clf = svm.SVR()\n",
    "# %time clf.fit(X_train, Y_train)\n",
    "\n",
    "# scores = cross_val_score(clf, X_test, Y_test, cv=5)\n",
    "\n",
    "# print(scores)\n",
    "# print(\"%0.2f accuracy with a standard deviation of %0.2f\" % (scores.mean(), scores.std()))\n",
    "#################################################################################\n",
    "\n",
    "\n",
    "\n",
    "\n",
    "\n",
    "# fig, ax = plt.subplots(nrows=1, ncols=1, figsize=(10,4), sharey=True)\n",
    "# ax.plot(X_train, clf.fit(X_train, Y_train).predict(X_train), lw=2)\n",
    "# ax.scatter(X_train[clf.support_], Y_train[clf.support_], facecolor=\"none\",s=50)\n",
    "# # ax.scatter(X_test[np.setdiff1d(np.arange(len(X_test)),clf.support_)],\n",
    "# #            Y_test[np.setdiff1d(np.arange(len(X_test)), clf.support_)],\n",
    "# #            facecolor=\"none\", edgecolor=\"k\", s=50)\n",
    "\n",
    "\n",
    "# fig.text(0.5, 0.04, 'data', ha='center', va='center')\n",
    "# fig.text(0.06, 0.5, 'target', ha='center', va='center', rotation='vertical')\n",
    "# fig.suptitle(\"Support Vector Regression\", fontsize=14)\n",
    "# plt.show()"
   ]
  },
  {
   "cell_type": "code",
   "execution_count": null,
   "metadata": {},
   "outputs": [
    {
     "name": "stderr",
     "output_type": "stream",
     "text": [
      "/var/folders/sl/46hc8zqn0l9_kwvskdqj7z8h0000gn/T/ipykernel_23733/1868044830.py:13: FutureWarning: In a future version of pandas all arguments of DataFrame.drop except for the argument 'labels' will be keyword-only\n",
      "  df1.drop(['Transit Date', 'Vehicle #', 'Block #', 'Route #', 'Trip #', 'Direction',\\\n"
     ]
    },
    {
     "ename": "KeyError",
     "evalue": "\"['Vehicle #' 'Route #' 'Trip #' 'Direction' 'Pattern' 'Bus Stop Name'\\n 'Scheduled Depart' 'Actual Depart' 'Initial Performance Result'\\n 'Reported Performance Results' 'Waivers' 'Scheduled Operating Speed'\\n 'Actual Operating Speed' 'Run Time Variance' 'Day Type' 'Time Period'\\n 'Scheduled Depart DateTime' 'Actual Depart DateTime'] not found in axis\"",
     "output_type": "error",
     "traceback": [
      "\u001b[0;31m---------------------------------------------------------------------------\u001b[0m",
      "\u001b[0;31mKeyError\u001b[0m                                  Traceback (most recent call last)",
      "\u001b[0;32m/var/folders/sl/46hc8zqn0l9_kwvskdqj7z8h0000gn/T/ipykernel_23733/1868044830.py\u001b[0m in \u001b[0;36m<module>\u001b[0;34m\u001b[0m\n\u001b[1;32m     11\u001b[0m \u001b[0mdf1\u001b[0m\u001b[0;34m[\u001b[0m\u001b[0;34m'Actual Run Time'\u001b[0m\u001b[0;34m]\u001b[0m \u001b[0;34m=\u001b[0m \u001b[0mdf1\u001b[0m\u001b[0;34m[\u001b[0m\u001b[0;34m'Actual Run Time'\u001b[0m\u001b[0;34m]\u001b[0m\u001b[0;34m.\u001b[0m\u001b[0mastype\u001b[0m\u001b[0;34m(\u001b[0m\u001b[0mint\u001b[0m\u001b[0;34m)\u001b[0m\u001b[0;34m\u001b[0m\u001b[0;34m\u001b[0m\u001b[0m\n\u001b[1;32m     12\u001b[0m \u001b[0;34m\u001b[0m\u001b[0m\n\u001b[0;32m---> 13\u001b[0;31m df1.drop(['Transit Date', 'Vehicle #', 'Block #', 'Route #', 'Trip #', 'Direction',\\\n\u001b[0m\u001b[1;32m     14\u001b[0m     \u001b[0;34m'Pattern'\u001b[0m\u001b[0;34m,\u001b[0m\u001b[0;34m'Bus Stop Name'\u001b[0m\u001b[0;34m,\u001b[0m \u001b[0;34m'Stop Sequence'\u001b[0m\u001b[0;34m,\u001b[0m\u001b[0;34m'Latitude'\u001b[0m\u001b[0;34m,\u001b[0m\u001b[0;34m'Longitude'\u001b[0m\u001b[0;34m,\u001b[0m\u001b[0;34m'Scheduled Depart'\u001b[0m\u001b[0;34m,\u001b[0m\u001b[0;34m'Actual Depart'\u001b[0m\u001b[0;34m,\u001b[0m\u001b[0;31m\\\u001b[0m\u001b[0;34m\u001b[0m\u001b[0;34m\u001b[0m\u001b[0m\n\u001b[1;32m     15\u001b[0m    \u001b[0;34m'Miles from Prior Time Point'\u001b[0m\u001b[0;34m,\u001b[0m \u001b[0;34m'Bus Stop ID'\u001b[0m\u001b[0;34m,\u001b[0m\u001b[0;31m\\\u001b[0m\u001b[0;34m\u001b[0m\u001b[0;34m\u001b[0m\u001b[0m\n",
      "\u001b[0;32m~/opt/anaconda3/lib/python3.9/site-packages/pandas/util/_decorators.py\u001b[0m in \u001b[0;36mwrapper\u001b[0;34m(*args, **kwargs)\u001b[0m\n\u001b[1;32m    309\u001b[0m                     \u001b[0mstacklevel\u001b[0m\u001b[0;34m=\u001b[0m\u001b[0mstacklevel\u001b[0m\u001b[0;34m,\u001b[0m\u001b[0;34m\u001b[0m\u001b[0;34m\u001b[0m\u001b[0m\n\u001b[1;32m    310\u001b[0m                 )\n\u001b[0;32m--> 311\u001b[0;31m             \u001b[0;32mreturn\u001b[0m \u001b[0mfunc\u001b[0m\u001b[0;34m(\u001b[0m\u001b[0;34m*\u001b[0m\u001b[0margs\u001b[0m\u001b[0;34m,\u001b[0m \u001b[0;34m**\u001b[0m\u001b[0mkwargs\u001b[0m\u001b[0;34m)\u001b[0m\u001b[0;34m\u001b[0m\u001b[0;34m\u001b[0m\u001b[0m\n\u001b[0m\u001b[1;32m    312\u001b[0m \u001b[0;34m\u001b[0m\u001b[0m\n\u001b[1;32m    313\u001b[0m         \u001b[0;32mreturn\u001b[0m \u001b[0mwrapper\u001b[0m\u001b[0;34m\u001b[0m\u001b[0;34m\u001b[0m\u001b[0m\n",
      "\u001b[0;32m~/opt/anaconda3/lib/python3.9/site-packages/pandas/core/frame.py\u001b[0m in \u001b[0;36mdrop\u001b[0;34m(self, labels, axis, index, columns, level, inplace, errors)\u001b[0m\n\u001b[1;32m   4904\u001b[0m                 \u001b[0mweight\u001b[0m  \u001b[0;36m1.0\u001b[0m     \u001b[0;36m0.8\u001b[0m\u001b[0;34m\u001b[0m\u001b[0;34m\u001b[0m\u001b[0m\n\u001b[1;32m   4905\u001b[0m         \"\"\"\n\u001b[0;32m-> 4906\u001b[0;31m         return super().drop(\n\u001b[0m\u001b[1;32m   4907\u001b[0m             \u001b[0mlabels\u001b[0m\u001b[0;34m=\u001b[0m\u001b[0mlabels\u001b[0m\u001b[0;34m,\u001b[0m\u001b[0;34m\u001b[0m\u001b[0;34m\u001b[0m\u001b[0m\n\u001b[1;32m   4908\u001b[0m             \u001b[0maxis\u001b[0m\u001b[0;34m=\u001b[0m\u001b[0maxis\u001b[0m\u001b[0;34m,\u001b[0m\u001b[0;34m\u001b[0m\u001b[0;34m\u001b[0m\u001b[0m\n",
      "\u001b[0;32m~/opt/anaconda3/lib/python3.9/site-packages/pandas/core/generic.py\u001b[0m in \u001b[0;36mdrop\u001b[0;34m(self, labels, axis, index, columns, level, inplace, errors)\u001b[0m\n\u001b[1;32m   4148\u001b[0m         \u001b[0;32mfor\u001b[0m \u001b[0maxis\u001b[0m\u001b[0;34m,\u001b[0m \u001b[0mlabels\u001b[0m \u001b[0;32min\u001b[0m \u001b[0maxes\u001b[0m\u001b[0;34m.\u001b[0m\u001b[0mitems\u001b[0m\u001b[0;34m(\u001b[0m\u001b[0;34m)\u001b[0m\u001b[0;34m:\u001b[0m\u001b[0;34m\u001b[0m\u001b[0;34m\u001b[0m\u001b[0m\n\u001b[1;32m   4149\u001b[0m             \u001b[0;32mif\u001b[0m \u001b[0mlabels\u001b[0m \u001b[0;32mis\u001b[0m \u001b[0;32mnot\u001b[0m \u001b[0;32mNone\u001b[0m\u001b[0;34m:\u001b[0m\u001b[0;34m\u001b[0m\u001b[0;34m\u001b[0m\u001b[0m\n\u001b[0;32m-> 4150\u001b[0;31m                 \u001b[0mobj\u001b[0m \u001b[0;34m=\u001b[0m \u001b[0mobj\u001b[0m\u001b[0;34m.\u001b[0m\u001b[0m_drop_axis\u001b[0m\u001b[0;34m(\u001b[0m\u001b[0mlabels\u001b[0m\u001b[0;34m,\u001b[0m \u001b[0maxis\u001b[0m\u001b[0;34m,\u001b[0m \u001b[0mlevel\u001b[0m\u001b[0;34m=\u001b[0m\u001b[0mlevel\u001b[0m\u001b[0;34m,\u001b[0m \u001b[0merrors\u001b[0m\u001b[0;34m=\u001b[0m\u001b[0merrors\u001b[0m\u001b[0;34m)\u001b[0m\u001b[0;34m\u001b[0m\u001b[0;34m\u001b[0m\u001b[0m\n\u001b[0m\u001b[1;32m   4151\u001b[0m \u001b[0;34m\u001b[0m\u001b[0m\n\u001b[1;32m   4152\u001b[0m         \u001b[0;32mif\u001b[0m \u001b[0minplace\u001b[0m\u001b[0;34m:\u001b[0m\u001b[0;34m\u001b[0m\u001b[0;34m\u001b[0m\u001b[0m\n",
      "\u001b[0;32m~/opt/anaconda3/lib/python3.9/site-packages/pandas/core/generic.py\u001b[0m in \u001b[0;36m_drop_axis\u001b[0;34m(self, labels, axis, level, errors)\u001b[0m\n\u001b[1;32m   4183\u001b[0m                 \u001b[0mnew_axis\u001b[0m \u001b[0;34m=\u001b[0m \u001b[0maxis\u001b[0m\u001b[0;34m.\u001b[0m\u001b[0mdrop\u001b[0m\u001b[0;34m(\u001b[0m\u001b[0mlabels\u001b[0m\u001b[0;34m,\u001b[0m \u001b[0mlevel\u001b[0m\u001b[0;34m=\u001b[0m\u001b[0mlevel\u001b[0m\u001b[0;34m,\u001b[0m \u001b[0merrors\u001b[0m\u001b[0;34m=\u001b[0m\u001b[0merrors\u001b[0m\u001b[0;34m)\u001b[0m\u001b[0;34m\u001b[0m\u001b[0;34m\u001b[0m\u001b[0m\n\u001b[1;32m   4184\u001b[0m             \u001b[0;32melse\u001b[0m\u001b[0;34m:\u001b[0m\u001b[0;34m\u001b[0m\u001b[0;34m\u001b[0m\u001b[0m\n\u001b[0;32m-> 4185\u001b[0;31m                 \u001b[0mnew_axis\u001b[0m \u001b[0;34m=\u001b[0m \u001b[0maxis\u001b[0m\u001b[0;34m.\u001b[0m\u001b[0mdrop\u001b[0m\u001b[0;34m(\u001b[0m\u001b[0mlabels\u001b[0m\u001b[0;34m,\u001b[0m \u001b[0merrors\u001b[0m\u001b[0;34m=\u001b[0m\u001b[0merrors\u001b[0m\u001b[0;34m)\u001b[0m\u001b[0;34m\u001b[0m\u001b[0;34m\u001b[0m\u001b[0m\n\u001b[0m\u001b[1;32m   4186\u001b[0m             \u001b[0mresult\u001b[0m \u001b[0;34m=\u001b[0m \u001b[0mself\u001b[0m\u001b[0;34m.\u001b[0m\u001b[0mreindex\u001b[0m\u001b[0;34m(\u001b[0m\u001b[0;34m**\u001b[0m\u001b[0;34m{\u001b[0m\u001b[0maxis_name\u001b[0m\u001b[0;34m:\u001b[0m \u001b[0mnew_axis\u001b[0m\u001b[0;34m}\u001b[0m\u001b[0;34m)\u001b[0m\u001b[0;34m\u001b[0m\u001b[0;34m\u001b[0m\u001b[0m\n\u001b[1;32m   4187\u001b[0m \u001b[0;34m\u001b[0m\u001b[0m\n",
      "\u001b[0;32m~/opt/anaconda3/lib/python3.9/site-packages/pandas/core/indexes/base.py\u001b[0m in \u001b[0;36mdrop\u001b[0;34m(self, labels, errors)\u001b[0m\n\u001b[1;32m   6015\u001b[0m         \u001b[0;32mif\u001b[0m \u001b[0mmask\u001b[0m\u001b[0;34m.\u001b[0m\u001b[0many\u001b[0m\u001b[0;34m(\u001b[0m\u001b[0;34m)\u001b[0m\u001b[0;34m:\u001b[0m\u001b[0;34m\u001b[0m\u001b[0;34m\u001b[0m\u001b[0m\n\u001b[1;32m   6016\u001b[0m             \u001b[0;32mif\u001b[0m \u001b[0merrors\u001b[0m \u001b[0;34m!=\u001b[0m \u001b[0;34m\"ignore\"\u001b[0m\u001b[0;34m:\u001b[0m\u001b[0;34m\u001b[0m\u001b[0;34m\u001b[0m\u001b[0m\n\u001b[0;32m-> 6017\u001b[0;31m                 \u001b[0;32mraise\u001b[0m \u001b[0mKeyError\u001b[0m\u001b[0;34m(\u001b[0m\u001b[0;34mf\"{labels[mask]} not found in axis\"\u001b[0m\u001b[0;34m)\u001b[0m\u001b[0;34m\u001b[0m\u001b[0;34m\u001b[0m\u001b[0m\n\u001b[0m\u001b[1;32m   6018\u001b[0m             \u001b[0mindexer\u001b[0m \u001b[0;34m=\u001b[0m \u001b[0mindexer\u001b[0m\u001b[0;34m[\u001b[0m\u001b[0;34m~\u001b[0m\u001b[0mmask\u001b[0m\u001b[0;34m]\u001b[0m\u001b[0;34m\u001b[0m\u001b[0;34m\u001b[0m\u001b[0m\n\u001b[1;32m   6019\u001b[0m         \u001b[0;32mreturn\u001b[0m \u001b[0mself\u001b[0m\u001b[0;34m.\u001b[0m\u001b[0mdelete\u001b[0m\u001b[0;34m(\u001b[0m\u001b[0mindexer\u001b[0m\u001b[0;34m)\u001b[0m\u001b[0;34m\u001b[0m\u001b[0;34m\u001b[0m\u001b[0m\n",
      "\u001b[0;31mKeyError\u001b[0m: \"['Vehicle #' 'Route #' 'Trip #' 'Direction' 'Pattern' 'Bus Stop Name'\\n 'Scheduled Depart' 'Actual Depart' 'Initial Performance Result'\\n 'Reported Performance Results' 'Waivers' 'Scheduled Operating Speed'\\n 'Actual Operating Speed' 'Run Time Variance' 'Day Type' 'Time Period'\\n 'Scheduled Depart DateTime' 'Actual Depart DateTime'] not found in axis\""
     ]
    }
   ],
   "source": [
    "df1 = df.copy()\n",
    "\n",
    "\n",
    "# df1 = pd.get_dummies(df1, columns=['Actual Depart Hour', 'Transit Date Month', 'Day of Week']\\\n",
    "#     ,prefix=['Enc_Hour_', 'Enc_Month_', 'Enc_Day_'])\n",
    "\n",
    "df1.fillna(value = -9999)\n",
    "enc = OneHotEncoder(handle_unknown='ignore')\n",
    "\n",
    "df1['Scheduled Run Time'] = df1['Scheduled Run Time'].astype(int)\n",
    "df1['Actual Run Time'] = df1['Actual Run Time'].astype(int)\n",
    "\n",
    "df1.drop(['Transit Date', 'Vehicle #', 'Block #', 'Route #', 'Trip #', 'Direction',\\\n",
    "    'Pattern','Bus Stop Name', 'Stop Sequence','Latitude','Longitude','Scheduled Depart','Actual Depart',\\\n",
    "   'Miles from Prior Time Point', 'Bus Stop ID',\\\n",
    "       'Actual Depart Hour', 'Transit Date Month', 'Day of Week',\\\n",
    "        'Initial Performance Result','Reported Performance Results','Actual Arrival','Waivers',\\\n",
    "            'Dwell Time', 'Scheduled Operating Speed','Actual Operating Speed',\\\n",
    "                'Run Time Variance','Day Type','Time Period',\\\n",
    "                        'Scheduled Depart DateTime', 'Actual Depart DateTime', \\\n",
    "                            'Same Stop Prev Trip Departure Offset', \\\n",
    "                                'Difference (Minutes)', 'Prev Departure Offset'], 1, inplace=True)\n",
    "# print(df1.head)\n",
    "X = np.array(df1.drop(['Actual Run Time'],1)) #using everything except class to train\n",
    "Y = np.array(df1['Actual Run Time']) #class is the final result obviously\n",
    "np.nan_to_num(X)\n",
    "np.nan_to_num(Y)\n",
    "pd.isnull(X)\n",
    "np.nan_to_num(X)\n",
    "\n",
    "X_train, X_test, Y_train, Y_test = train_test_split(X,Y, test_size=0.2)\n",
    "\n",
    "lr_sgd = SGDRegressor(loss='huber')\n",
    "%time lr_sgd.fit(X_train, Y_train)\n",
    "\n",
    "filename = 'models/2019_lr_sgd_model_9_15.sav'\n",
    "pickle.dump(lr_sgd, open(filename, 'wb'))\n",
    "\n",
    "plt.scatter(Y_test, lr_sgd.predict(X_test))\n",
    "plt.grid()\n",
    "plt.xlabel('Actual y')\n",
    "plt.ylabel('Predicted y')\n",
    "plt.title('scatter plot between actual y and predicted y')\n",
    "plt.show()\n",
    "print('Root Mean Squared Error :',math.sqrt(mean_squared_error(Y_test, lr_sgd.predict(X_test))))\n",
    "print('Mean Absolute Error :',mean_absolute_error(Y_test, lr_sgd.predict(X_test)))\n",
    "\n",
    "scores = cross_val_score(lr_sgd, X_test, Y_test, cv=5)\n",
    "\n",
    "print(scores)\n",
    "print(\"%0.2f accuracy with a standard deviation of %0.2f\" % (scores.mean(), scores.std()))\n",
    "\n",
    "# fig, ax = plt.subplots(nrows=1, ncols=1, figsize=(10,4), sharey=True)\n",
    "# ax.plot(X_train, clf.fit(X_train, Y_train).predict(X_train), lw=2)\n",
    "# ax.scatter(X_train[clf.support_], Y_train[clf.support_], facecolor=\"none\",s=50)\n",
    "# # ax.scatter(X_test[np.setdiff1d(np.arange(len(X_test)),clf.support_)],\n",
    "# #            Y_test[np.setdiff1d(np.arange(len(X_test)), clf.support_)],\n",
    "# #            facecolor=\"none\", edgecolor=\"k\", s=50)\n",
    "\n",
    "\n",
    "# fig.text(0.5, 0.04, 'data', ha='center', va='center')\n",
    "# fig.text(0.06, 0.5, 'target', ha='center', va='center', rotation='vertical')\n",
    "# fig.suptitle(\"Support Vector Regression\", fontsize=14)\n",
    "# plt.show()"
   ]
  },
  {
   "cell_type": "code",
   "execution_count": null,
   "metadata": {},
   "outputs": [],
   "source": [
    "stopactual = df\n",
    "stopactual['Actual Run Time'] = stopactual['Actual Run Time'].astype(int)\n",
    "stopactual['Scheduled Run Time'] = stopactual['Scheduled Run Time'].astype(int)\n",
    "\n",
    "f=plt.figure(figsize=(10,7))\n",
    "\n",
    "ax1=f.add_subplot(111)\n",
    "ax1.set_xlim(left = -25,right=100)\n",
    "ax1.set_ylim(bottom=-25,top=100)\n",
    "ax1.set(Title=\"2019 Bus Run Time Correlation with Scheduled Run Time\")\n",
    "# plt.ylim(0,15)\n",
    "ax1.scatter(stopactual['Actual Run Time'], stopactual['Scheduled Run Time'])\n",
    "plt.setp(ax1.get_xticklabels(), visible=False)\n",
    "plt.legend()\n",
    "plt.grid()\n",
    "\n",
    "ax1.set(xlabel=\"Actual Run Time\")\n",
    "ax1.set(ylabel=\"Scheduled Run Time\")\n",
    "\n",
    "locs, labels = plt.xticks() \n",
    "\n",
    "\n",
    "\n",
    "plt.show()\n",
    "\n",
    "df['Actual Run Time'].corr(df['Scheduled Run Time'])"
   ]
  },
  {
   "cell_type": "code",
   "execution_count": null,
   "metadata": {},
   "outputs": [],
   "source": [
    "print(df.loc[df['Run Time Variance']==0].shape[0]/df.shape[0])"
   ]
  },
  {
   "cell_type": "code",
   "execution_count": null,
   "metadata": {},
   "outputs": [
    {
     "name": "stdout",
     "output_type": "stream",
     "text": [
      "Wall time: 600 ms\n"
     ]
    },
    {
     "data": {
      "image/png": "[encoded data removed]",
      "text/plain": [
       "<Figure size 432x288 with 1 Axes>"
      ]
     },
     "metadata": {
      "needs_background": "light"
     },
     "output_type": "display_data"
    },
    {
     "name": "stdout",
     "output_type": "stream",
     "text": [
      "Root Mean Squared Error : 5.470263523814567\n",
      "Mean Absolute Error : 2.7564572255815216\n",
      "[0.96774294 0.98230823 0.97402959 0.96046101 0.89424458]\n",
      "0.96 accuracy with a standard deviation of 0.03\n"
     ]
    }
   ],
   "source": [
    "df1 = df.copy()\n",
    "\n",
    "\n",
    "df1 = pd.get_dummies(df1, columns=['Actual Depart Hour', 'Transit Date Month', 'Day of Week']\\\n",
    "    ,prefix=['Enc_Hour_', 'Enc_Month_', 'Enc_Day_'])\n",
    "\n",
    "df1.fillna(value = -9999)\n",
    "enc = OneHotEncoder(handle_unknown='ignore')\n",
    "\n",
    "df1['Scheduled Run Time'] = df1['Scheduled Run Time'].astype(int)\n",
    "df1['Actual Run Time'] = df1['Actual Run Time'].astype(int)\n",
    "\n",
    "df1.drop(['Transit Date', 'Vehicle #', 'Block #', 'Route #', 'Trip #', 'Direction',\\\n",
    "    'Pattern','Bus Stop Name', 'Stop Sequence','Latitude','Longitude','Scheduled Depart','Actual Depart',\\\n",
    "   'Miles from Prior Time Point', 'Bus Stop ID',\n",
    "        'Initial Performance Result','Reported Performance Results','Actual Arrival','Waivers',\\\n",
    "            'Dwell Time', 'Scheduled Operating Speed','Actual Operating Speed',\\\n",
    "                'Run Time Variance','Day Type','Time Period',\\\n",
    "                        'Scheduled Depart DateTime', 'Actual Depart DateTime', \\\n",
    "                            'Same Stop Prev Trip Departure Offset', \\\n",
    "                                'Difference (Minutes)', 'Prev Departure Offset'], 1, inplace=True)\n",
    "X = np.array(df1.drop(['Actual Run Time'],1)) #using everything except class to train\n",
    "Y = np.array(df1['Actual Run Time']) #class is the final result obviously\n",
    "np.nan_to_num(X)\n",
    "np.nan_to_num(Y)\n",
    "pd.isnull(X)\n",
    "np.nan_to_num(X)\n",
    "\n",
    "X_train, X_test, Y_train, Y_test = train_test_split(X,Y, test_size=0.2)\n",
    "\n",
    "lr_sgd = SGDRegressor(loss='huber')\n",
    "%time lr_sgd.fit(X_train, Y_train)\n",
    "\n",
    "\n",
    "\n",
    "plt.scatter(Y_test, lr_sgd.predict(X_test))\n",
    "plt.grid()\n",
    "plt.xlabel('Actual y')\n",
    "plt.ylabel('Predicted y')\n",
    "plt.title('scatter plot between actual y and predicted y')\n",
    "plt.show()\n",
    "print('Root Mean Squared Error :',math.sqrt(mean_squared_error(Y_test, lr_sgd.predict(X_test))))\n",
    "print('Mean Absolute Error :',mean_absolute_error(Y_test, lr_sgd.predict(X_test)))\n",
    "\n",
    "scores = cross_val_score(lr_sgd, X_test, Y_test, cv=5)\n",
    "print(scores)\n",
    "print(\"%0.2f accuracy with a standard deviation of %0.2f\" % (scores.mean(), scores.std()))"
   ]
  },
  {
   "cell_type": "code",
   "execution_count": null,
   "metadata": {},
   "outputs": [],
   "source": [
    "df1 = df.copy()\n",
    "df1.fillna(value = -999999)\n",
    "df1['Actual Run Time'] = df1['Actual Run Time'].astype(float)\n",
    "df1['Scheduled Run Time'] = df1['Scheduled Run Time'].astype(float)\n",
    "\n",
    "\n",
    "df1.drop(['Transit Date', 'Vehicle #', 'Block #', 'Route #', 'Trip #', 'Direction',\\\n",
    "    'Pattern','Bus Stop Name', 'Stop Sequence','Latitude','Longitude','Scheduled Depart','Actual Depart',\\\n",
    "   'Miles from Prior Time Point',\n",
    "        'Initial Performance Result','Reported Performance Results','Actual Arrival','Waivers',\\\n",
    "            'Dwell Time', 'Scheduled Operating Speed','Actual Operating Speed',\\\n",
    "                'Run Time Variance','Day Type','Time Period',\\\n",
    "                        'Scheduled Depart DateTime', 'Actual Depart DateTime', \\\n",
    "                            'Same Stop Prev Trip Departure Offset', \\\n",
    "                                'Difference (Minutes)', 'Prev Departure Offset'], 1, inplace=True)\n",
    "\n",
    "train=df1.sample(frac=0.8)\n",
    "test=df1.drop(train.index)\n",
    "\n",
    "# train = df1\n",
    "# test = pd.read_csv('data/2020 Line 280 AVL allscripts.csv')\n",
    "\n",
    "# test['Actual Depart Hour'] = test['Actual Depart'].str.split(':',expand=True)[0]\n",
    "# test['Actual Depart Hour'] = test['Actual Depart Hour'].astype(int)\n",
    "# test['Transit Date Month'] = test['Transit Date'].str.split('/',expand=True)[0]\n",
    "# test['Transit Date Month'] = test['Transit Date Month'].astype(int)\n",
    "\n",
    "model = smf.mixedlm('Q(\"Actual Run Time\") ~ Q(\"Scheduled Run Time\") + C(Q(\"Actual Depart Hour\")) + C(Q(\"Transit Date Month\")) + C(Q(\"Day of Week\"))',data = train,groups = \"Bus Stop ID\").fit()\n",
    "# print(model.summary())\n",
    "test['Predicted Actual Run Time'] = model.predict(test)\n",
    "test['Predict = Actual'] = test['Actual Run Time'] == test['Predicted Actual Run Time']\n",
    "\n",
    "test['Predicted Error'] = abs(test['Actual Run Time']-test['Predicted Actual Run Time'])/test[['Actual Run Time', 'Predicted Actual Run Time']].max(axis=1)*100\n",
    "print(test.head())"
   ]
  },
  {
   "cell_type": "code",
   "execution_count": null,
   "metadata": {},
   "outputs": [],
   "source": [
    "fig = plt.figure(figsize = (16, 9))\n",
    "\n",
    "ax = sns.distplot(model.resid, hist = False, kde_kws = {\"shade\" : True, \"lw\": 1}, fit = stats.norm)\n",
    "\n",
    "ax.set_title(\"KDE Plot of Model Residuals (Blue) and Normal Distribution (Black)\")\n",
    "ax.set_xlabel(\"Residuals\")"
   ]
  },
  {
   "cell_type": "code",
   "execution_count": null,
   "metadata": {},
   "outputs": [],
   "source": [
    "fig = plt.figure(figsize = (16, 9))\n",
    "ax = fig.add_subplot(111)\n",
    "\n",
    "sm.qqplot(model.resid, dist = stats.norm, line = 's', ax = ax)\n",
    "\n",
    "ax.set_title(\"Q-Q Plot\")"
   ]
  },
  {
   "cell_type": "code",
   "execution_count": null,
   "metadata": {},
   "outputs": [],
   "source": [
    "fig = plt.figure(figsize = (16, 9))\n",
    "\n",
    "ax = sns.scatterplot(y = model.resid, x = model.fittedvalues)\n",
    "\n",
    "ax.set_title(\"RVF Plot\")\n",
    "ax.set_xlabel(\"Fitted Values\")\n",
    "ax.set_ylabel(\"Residuals\")"
   ]
  },
  {
   "cell_type": "code",
   "execution_count": null,
   "metadata": {},
   "outputs": [],
   "source": [
    "fig = plt.figure(figsize = (16, 9))\n",
    "\n",
    "ax = sns.boxplot(x = test['Bus Stop ID'], y = test['Predicted Error'])\n",
    "\n",
    "ax.set_title(\"Distribution of Errors for Bus Stop ID\")\n",
    "ax.set_ylabel(\"Prediction Error\")\n",
    "ax.set_xlabel(\"Bus Stop ID\")\n"
   ]
  },
  {
   "cell_type": "code",
   "execution_count": null,
   "metadata": {},
   "outputs": [],
   "source": [
    "fig = plt.figure(figsize = (16, 9))\n",
    "test1 = test.loc[test['Bus Stop ID'] != 177]\n",
    "test1 = test1.loc[test1['Bus Stop ID'] != 2199]\n",
    "\n",
    "ax = sns.boxplot(x = test1['Bus Stop ID'], y = test1['Predicted Error'])\n",
    "\n",
    "ax.set_title(\"Distribution of Errors for Bus Stop ID\")\n",
    "ax.set_ylabel(\"Prediction Error\")\n",
    "ax.set_xlabel(\"Bus Stop ID\")\n"
   ]
  },
  {
   "cell_type": "code",
   "execution_count": null,
   "metadata": {},
   "outputs": [
    {
     "name": "stdout",
     "output_type": "stream",
     "text": [
      "Root Mean Squared Error : 26.99985542115473\n"
     ]
    }
   ],
   "source": [
    "df3 = df.copy()\n",
    "df3.fillna(value = -999999)\n",
    "df3['Prev Departure Offset'] = df3['Prev Departure Offset'].astype(int)\n",
    "df3['Difference (Minutes)'] = df3['Difference (Minutes)'].astype(int)\n",
    "\n",
    "df3.drop(['Transit Date', 'Vehicle #', 'Block #', 'Route #', 'Trip #', 'Direction',\\\n",
    "    'Pattern','Bus Stop Name', 'Stop Sequence','Latitude','Longitude','Scheduled Depart','Actual Depart',\\\n",
    "        'Initial Performance Result','Reported Performance Results','Actual Arrival','Waivers',\\\n",
    "            'Dwell Time', 'Scheduled Operating Speed','Actual Operating Speed',\\\n",
    "                'Run Time Variance','Day Type','Time Period',\\\n",
    "                        'Scheduled Depart DateTime', 'Actual Depart DateTime', \\\n",
    "                            'Same Stop Prev Trip Departure Offset', \\\n",
    "                                 'Scheduled Run Time'], axis = 1, inplace=True)\n",
    "\n",
    "train=df3.sample(frac=0.8)\n",
    "test=df3.drop(train.index)\n",
    "\n",
    "model = smf.mixedlm('Q(\"Prev Departure Offset\") ~ Q(\"Difference (Minutes)\") + C(Q(\"Actual Depart Hour\")) + C(Q(\"Transit Date Month\")) + C(Q(\"Day of Week\")) + C(Q(\"Miles from Prior Time Point\"))',data = df3,groups = \"Bus Stop ID\").fit()\n",
    "model.summary()\n",
    "test['Predicted Actual Run Time'] = model.predict(test)\n",
    "\n",
    "print('Root Mean Squared Error :',math.sqrt(mean_squared_error(test['Actual Run Time'], test['Predicted Actual Run Time'])))\n",
    "#scores = cross_val_score(model, X_test, Y_test, cv=5)\n",
    "#print(scores)\n",
    "#print(\"%0.2f accuracy with a standard deviation of %0.2f\" % (scores.mean(), scores.std()))"
   ]
  },
  {
   "cell_type": "code",
   "execution_count": null,
   "metadata": {},
   "outputs": [],
   "source": []
  }
 ],
 "metadata": {
  "interpreter": {
   "hash": "663818bb3c4314dbd47e58b8e65a777ad8ae38914e19ed23958843e13f85a1f6"
  },
  "kernelspec": {
   "display_name": "Python 3.7.4 64-bit",
   "name": "python3"
  },
  "language_info": {
   "codemirror_mode": {
    "name": "ipython",
    "version": 3
   },
   "file_extension": ".py",
   "mimetype": "text/x-python",
   "name": "python",
   "nbconvert_exporter": "python",
   "pygments_lexer": "ipython3",
   "version": "3.9.6"
  },
  "orig_nbformat": 4
 },
 "nbformat": 4,
 "nbformat_minor": 2
}
