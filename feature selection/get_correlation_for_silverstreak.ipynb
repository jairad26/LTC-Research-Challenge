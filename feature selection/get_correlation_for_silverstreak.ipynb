{
 "cells": [
  {
   "cell_type": "code",
   "execution_count": 142,
   "metadata": {},
   "outputs": [],
   "source": [
    "import pandas as pd \n",
    "\n",
    "df = pd.read_csv('data/2019 Silver Streak allscripts.csv')\n",
    "df['Actual Depart'] = df['Actual Depart Hour'].astype(str).str.split(':',expand=True)[0]\n",
    "df['Actual Depart'] = df['Actual Depart Hour'].astype(int)\n",
    "df['Transit Date Month'] = df['Transit Date'].str.split('/',expand=True)[0]\n",
    "df['Transit Date Month'] = df['Transit Date Month'].astype(int)\n",
    "df['Bus Stop ID'] = df['Bus Stop ID'].astype(int)\n"
   ]
  },
  {
   "cell_type": "code",
   "execution_count": 143,
   "metadata": {},
   "outputs": [
    {
     "name": "stderr",
     "output_type": "stream",
     "text": [
      "C:\\Users\\marti\\AppData\\Local\\Temp/ipykernel_4788/4057124620.py:14: FutureWarning: In a future version of pandas all arguments of DataFrame.drop except for the argument 'labels' will be keyword-only\n",
      "  df1.drop(['Actual Arrival','Longitude','Latitude',\\\n",
      "C:\\Users\\marti\\AppData\\Local\\Temp/ipykernel_4788/4057124620.py:23: PerformanceWarning: DataFrame is highly fragmented.  This is usually the result of calling `frame.insert` many times, which has poor performance.  Consider using pd.concat instead.  To get a de-fragmented frame, use `newframe = frame.copy()`\n",
      "  results[column] = [column, stopactual['Difference (Minutes)'].corr(df1[column])]\n"
     ]
    },
    {
     "name": "stdout",
     "output_type": "stream",
     "text": [
      "                                                   0         1\n",
      "Difference (Minutes)            Difference (Minutes)       1.0\n",
      "Prev Departure Offset          Prev Departure Offset  0.827111\n",
      "Actual Depart                          Actual Depart  0.067235\n",
      "Transit Date Month                Transit Date Month -0.080976\n",
      "Enc_Actual_Hour_Depart__0  Enc_Actual_Hour_Depart__0 -0.002693\n"
     ]
    }
   ],
   "source": [
    "stopactual = df.copy()\n",
    "stopactual['Difference (Minutes)'] = stopactual['Difference (Minutes)'].astype(int)\n",
    "stopactual['Prev Departure Offset'] = stopactual['Prev Departure Offset'].astype(int)\n",
    "stopactual['Badge #'] = stopactual['Badge #'].astype(int)\n",
    "\n",
    "df1 = pd.get_dummies(stopactual, columns=['Actual Depart Hour', 'Transit Date','Badge #', 'Day of Week',\\\n",
    "    'Miles from Prior Time Point', 'Bus Stop ID','Block #','Stop Sequence',\\\n",
    "    ],prefix=['Enc_Actual_Hour_Depart_', 'Enc_Transit_Date_', 'Enc_Day_of_Week_',\\\n",
    "        'Enc_Miles_', 'Enc_Stop_ID_','Enc_Block_Number_','Enc_Stop_Sequence_',\\\n",
    "        'Enc_Badge_#_'])\n",
    "\n",
    "\n",
    "# print(df1.head())\n",
    "df1.drop(['Actual Arrival','Longitude','Latitude',\\\n",
    "    'Same Stop Prev Trip Departure Offset',\\\n",
    "    'Dwell Time','Scheduled Run Time','Actual Run Time','Actual Arrival DateTime'], 1, inplace=True)\n",
    "\n",
    "# print(df1.head)\n",
    "results = pd.DataFrame()\n",
    "\n",
    "for column in df1.columns:\n",
    "    df1[column] = df1[column].astype(int)\n",
    "    results[column] = [column, stopactual['Difference (Minutes)'].corr(df1[column])]\n",
    "results = results.transpose()\n",
    "print(results.head())\n",
    "\n",
    "results.to_csv('2019 Silver Streak Correlation.csv',index=False,header=False)"
   ]
  }
 ],
 "metadata": {
  "interpreter": {
   "hash": "a9897a827bb838c0fdbcb3df50eec1305a3f8d6076db197dbed197316a47c04b"
  },
  "kernelspec": {
   "display_name": "Python 3.9.11 64-bit (windows store)",
   "language": "python",
   "name": "python3"
  },
  "language_info": {
   "codemirror_mode": {
    "name": "ipython",
    "version": 3
   },
   "file_extension": ".py",
   "mimetype": "text/x-python",
   "name": "python",
   "nbconvert_exporter": "python",
   "pygments_lexer": "ipython3",
   "version": "3.9.11"
  },
  "orig_nbformat": 4
 },
 "nbformat": 4,
 "nbformat_minor": 2
}
