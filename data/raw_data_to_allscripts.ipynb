{
 "cells": [
  {
   "cell_type": "code",
   "execution_count": 58,
   "metadata": {},
   "outputs": [
    {
     "data": {
      "text/plain": [
       "<bound method NDFrame.head of       Transit Date  Block #  Badge #  Bus Stop ID  Stop Sequence   Latitude  \\\n",
       "0       2020-01-31    10073   4749.0         2276             11  34.128658   \n",
       "1       2020-01-31    10073   4749.0         1296             22  34.124493   \n",
       "2       2020-01-31    10073   4749.0          981             41  34.094530   \n",
       "3       2020-01-31    10073   4749.0          981             41  34.094530   \n",
       "4       2020-01-31    10606   4678.0         2276             11  34.128658   \n",
       "...            ...      ...      ...          ...            ...        ...   \n",
       "13524   2020-12-01    10085   4911.0         2289             36  34.128843   \n",
       "13525   2020-12-01    10197   4475.0          982              5  34.094773   \n",
       "13526   2020-12-01    10197   4475.0         1297             25  34.124808   \n",
       "13527   2020-12-01    10197   4475.0         2289             36  34.128843   \n",
       "13528   2020-12-01    10197   4475.0          177             46  34.135445   \n",
       "\n",
       "        Longitude  Difference (Minutes) Actual Arrival  Dwell Time  \\\n",
       "0     -117.872135                     4       05:13:00           1   \n",
       "1     -117.806611                     1       05:22:00           0   \n",
       "2     -117.712443                    -3       05:39:00           0   \n",
       "3     -117.712443                    -3       05:39:00           0   \n",
       "4     -117.872135                     4       05:44:00           0   \n",
       "...           ...                   ...            ...         ...   \n",
       "13524 -117.872419                     0       22:09:00           0   \n",
       "13525 -117.711613                     0       22:36:00           1   \n",
       "13526 -117.807334                     0       22:58:00           0   \n",
       "13527 -117.872419                     0       23:09:00           0   \n",
       "13528 -117.906928                     0       23:20:00           1   \n",
       "\n",
       "       Scheduled Run Time  Actual Run Time  Miles from Prior Time Point  \\\n",
       "0                       0                0                        0.000   \n",
       "1                      11                8                       12.393   \n",
       "2                      21               17                        0.947   \n",
       "3                       0                0                       21.105   \n",
       "4                       0                0                        0.000   \n",
       "...                   ...              ...                          ...   \n",
       "13524                   0               10                       12.304   \n",
       "13525                   0                0                        0.000   \n",
       "13526                  21               21                       20.822   \n",
       "13527                   0               11                       12.304   \n",
       "13528                   0               11                        8.113   \n",
       "\n",
       "      Day of Week  \n",
       "0          Friday  \n",
       "1          Friday  \n",
       "2          Friday  \n",
       "3          Friday  \n",
       "4          Friday  \n",
       "...           ...  \n",
       "13524     Tuesday  \n",
       "13525     Tuesday  \n",
       "13526     Tuesday  \n",
       "13527     Tuesday  \n",
       "13528     Tuesday  \n",
       "\n",
       "[142918 rows x 14 columns]>"
      ]
     },
     "execution_count": 58,
     "metadata": {},
     "output_type": "execute_result"
    }
   ],
   "source": [
    "import datetime\n",
    "import pandas as pd\n",
    "import openpyxl\n",
    "file = \"Student Request_ JAI_ Line 188 Running Times_2020.xlsx\"\n",
    "\n",
    "df_total = pd.DataFrame()\n",
    "excel_file = pd.ExcelFile(file)\n",
    "sheets = excel_file.sheet_names\n",
    "for sheet in sheets: # loop through sheets inside an Excel file\n",
    "    df = excel_file.parse(sheet_name = sheet)\n",
    "    df.sort_values('Transit Date',kind='mergesort')\n",
    "    df_total = df_total.append(df.loc[::-1]) # adds it to the group in reverse order, each month has the most recent entry on top in our database\n",
    "\n",
    "\n",
    "df['Prev Departure Offset'] = df['Difference (Minutes)']\n",
    "df['Prev Departure Offset'][0] = 0\n",
    "\n",
    "for i in range(df['Difference (Minutes)'].size):\n",
    "    if(i != 0):\n",
    "        if(df['Trip #'][i] == df['Trip #'][i-1]):\n",
    "            df['Prev Departure Offset'][i] = df['Difference (Minutes)'][i-1]\n",
    "        else:\n",
    "            df['Prev Departure Offset'][i] = \"0\"\n",
    "\n",
    "#reverse order of entries in a date\n",
    "# add and Actual Depart\n",
    "#\n",
    "#df_total.sort_values('Transit Date', inplace=True)\n",
    "df_total['Actual Depart'] = df_total['Actual Arrival'] + df_total['Dwell Time']/24/60\n",
    "df_total['DateTime'] = df_total['Actual Arrival'] + pd.Timedelta('1 minute') # pd.Timedelta(df_total['Dwell Time'],unit='m')\n",
    "df_total.head\n",
    "# df_total.to_csv('2019 Line 188 allscripts.csv',index=False)"
   ]
  },
  {
   "cell_type": "code",
   "execution_count": null,
   "metadata": {},
   "outputs": [],
   "source": []
  }
 ],
 "metadata": {
  "interpreter": {
   "hash": "9518128f597d7b00dc14729602cfd87fb7b2cf75925976bcb0d0e328a830a12b"
  },
  "kernelspec": {
   "display_name": "Python 3.9.6 64-bit",
   "language": "python",
   "name": "python3"
  },
  "language_info": {
   "codemirror_mode": {
    "name": "ipython",
    "version": 3
   },
   "file_extension": ".py",
   "mimetype": "text/x-python",
   "name": "python",
   "nbconvert_exporter": "python",
   "pygments_lexer": "ipython3",
   "version": "3.9.6"
  },
  "orig_nbformat": 4
 },
 "nbformat": 4,
 "nbformat_minor": 2
}
