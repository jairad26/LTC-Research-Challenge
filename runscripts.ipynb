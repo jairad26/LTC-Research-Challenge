{
 "cells": [
  {
   "cell_type": "code",
   "execution_count": 1,
   "source": [
    "import pandas as pd \r\n",
    "import matplotlib.pyplot as plt\r\n",
    "import numpy as np\r\n",
    "import datetime\r\n",
    "from scipy.stats import chi2_contingency\r\n",
    "import pandas as pd\r\n",
    "import numpy as np\r\n",
    "from sklearn import preprocessing, neighbors, svm\r\n",
    "from sklearn.model_selection import train_test_split\r\n",
    "from sklearn.preprocessing import OneHotEncoder\r\n",
    "from sklearn.model_selection import cross_val_score\r\n",
    "# df = pd.read_csv('data/2020 Line 280 AVL report.csv')\r\n",
    "df = pd.read_csv('data/2019 Line 280 AVL.csv')\r\n",
    "df['Actual Depart Hour'] = df['Actual Depart'].str.split(':',expand=True)[0]\r\n",
    "df['Prev Departure Offset'] = df['Difference (Minutes)']\r\n",
    "\r\n",
    "df['Prev Departure Offset'][0] = 0\r\n",
    "\r\n",
    "for i in range(df['Difference (Minutes)'].size):\r\n",
    "    if(i != 0):\r\n",
    "        if(df['Trip #'][i] == df['Trip #'][i-1]):\r\n",
    "            df['Prev Departure Offset'][i] = df['Difference (Minutes)'][i-1]\r\n",
    "        else:\r\n",
    "            df['Prev Departure Offset'][i] = \"0\"\r\n",
    "\r\n",
    "print(df['Prev Departure Offset'])\r\n",
    "df.to_csv('data/2019 Line 280 AVL prevdepoffset.csv', index=False)\r\n",
    "\r\n",
    "\r\n",
    "\r\n",
    "\r\n",
    "\r\n"
   ],
   "outputs": [
    {
     "output_type": "stream",
     "name": "stderr",
     "text": [
      "C:\\Users\\Jai\\AppData\\Roaming\\Python\\Python37\\site-packages\\ipykernel_launcher.py:17: SettingWithCopyWarning: \n",
      "A value is trying to be set on a copy of a slice from a DataFrame\n",
      "\n",
      "See the caveats in the documentation: http://pandas.pydata.org/pandas-docs/stable/user_guide/indexing.html#returning-a-view-versus-a-copy\n",
      "C:\\Users\\Jai\\AppData\\Roaming\\Python\\Python37\\site-packages\\ipykernel_launcher.py:22: SettingWithCopyWarning: \n",
      "A value is trying to be set on a copy of a slice from a DataFrame\n",
      "\n",
      "See the caveats in the documentation: http://pandas.pydata.org/pandas-docs/stable/user_guide/indexing.html#returning-a-view-versus-a-copy\n",
      "C:\\Users\\Jai\\AppData\\Roaming\\Python\\Python37\\site-packages\\ipykernel_launcher.py:24: SettingWithCopyWarning: \n",
      "A value is trying to be set on a copy of a slice from a DataFrame\n",
      "\n",
      "See the caveats in the documentation: http://pandas.pydata.org/pandas-docs/stable/user_guide/indexing.html#returning-a-view-versus-a-copy\n"
     ]
    },
    {
     "output_type": "stream",
     "name": "stdout",
     "text": [
      "0         0\n",
      "1         0\n",
      "2         0\n",
      "3         0\n",
      "4        -1\n",
      "         ..\n",
      "202608    0\n",
      "202609   -2\n",
      "202610   -2\n",
      "202611    0\n",
      "202612   -1\n",
      "Name: Prev Departure Offset, Length: 202613, dtype: int64\n"
     ]
    }
   ],
   "metadata": {}
  },
  {
   "cell_type": "code",
   "execution_count": 3,
   "source": [
    "df = pd.read_csv('data/2019 Line 280 AVL prevdepoffset.csv')\r\n",
    "\r\n",
    "df['Scheduled Depart DateTime'] = df['Transit Date'] + ' ' + df['Scheduled Depart']\r\n",
    "df['Scheduled Depart DateTime'] = pd.to_datetime(df['Scheduled Depart DateTime'])\r\n",
    "\r\n",
    "df['Actual Depart DateTime'] = df['Transit Date'] + ' ' + df['Actual Depart']\r\n",
    "df['Actual Depart DateTime'] = pd.to_datetime(df['Actual Depart DateTime'])\r\n",
    "\r\n",
    "df = df.sort_values('Scheduled Depart DateTime', ascending = True)\r\n",
    "df = df.sort_values('Actual Depart DateTime', ascending = True)\r\n",
    "\r\n",
    "currentTripOffsetDict = {741:'NA',744:'NA',745:'NA',775:'NA',782:'NA',783:'NA',177:'NA',733:'NA',738:'NA',739:'NA',2199:'NA',2384:'NA'}\r\n",
    "\r\n",
    "\r\n",
    "df['Same Stop Prev Trip Departure Offset'] = df['Difference (Minutes)']\r\n",
    "for i,row in df.iterrows():\r\n",
    "    if(currentTripOffsetDict[df['Bus Stop ID'][i]] == 'NA'):\r\n",
    "        df['Same Stop Prev Trip Departure Offset'][i] = '0'\r\n",
    "        currentTripOffsetDict[df['Bus Stop ID'][i]] = df['Difference (Minutes)'][i]\r\n",
    "    else:\r\n",
    "        df['Same Stop Prev Trip Departure Offset'][i] = currentTripOffsetDict[df['Bus Stop ID'][i]]\r\n",
    "        currentTripOffsetDict[df['Bus Stop ID'][i]] = df['Difference (Minutes)'][i]\r\n",
    "        \r\n",
    "df['Same Stop Prev Trip Departure Offset']\r\n",
    "df.to_csv('data/2019 Line 280 AVL allscripts.csv', index=False)"
   ],
   "outputs": [
    {
     "output_type": "stream",
     "name": "stderr",
     "text": [
      "C:\\Users\\Jai\\AppData\\Roaming\\Python\\Python37\\site-packages\\ipykernel_launcher.py:18: SettingWithCopyWarning: \n",
      "A value is trying to be set on a copy of a slice from a DataFrame\n",
      "\n",
      "See the caveats in the documentation: http://pandas.pydata.org/pandas-docs/stable/user_guide/indexing.html#returning-a-view-versus-a-copy\n",
      "C:\\Users\\Jai\\AppData\\Roaming\\Python\\Python37\\site-packages\\ipykernel_launcher.py:21: SettingWithCopyWarning: \n",
      "A value is trying to be set on a copy of a slice from a DataFrame\n",
      "\n",
      "See the caveats in the documentation: http://pandas.pydata.org/pandas-docs/stable/user_guide/indexing.html#returning-a-view-versus-a-copy\n"
     ]
    }
   ],
   "metadata": {}
  },
  {
   "cell_type": "code",
   "execution_count": null,
   "source": [],
   "outputs": [],
   "metadata": {}
  },
  {
   "cell_type": "code",
   "execution_count": null,
   "source": [],
   "outputs": [],
   "metadata": {}
  },
  {
   "cell_type": "code",
   "execution_count": null,
   "source": [],
   "outputs": [],
   "metadata": {}
  }
 ],
 "metadata": {
  "orig_nbformat": 4,
  "language_info": {
   "name": "python",
   "version": "3.7.4",
   "mimetype": "text/x-python",
   "codemirror_mode": {
    "name": "ipython",
    "version": 3
   },
   "pygments_lexer": "ipython3",
   "nbconvert_exporter": "python",
   "file_extension": ".py"
  },
  "kernelspec": {
   "name": "python3",
   "display_name": "Python 3.7.4 64-bit"
  },
  "interpreter": {
   "hash": "663818bb3c4314dbd47e58b8e65a777ad8ae38914e19ed23958843e13f85a1f6"
  }
 },
 "nbformat": 4,
 "nbformat_minor": 2
}