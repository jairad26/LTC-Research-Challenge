{
 "cells": [
  {
   "cell_type": "code",
   "execution_count": 1,
   "source": [
    "\r\n",
    "import numpy as np\r\n",
    "from sklearn import preprocessing, neighbors, svm\r\n",
    "import pandas as pd\r\n",
    "from sklearn.model_selection import train_test_split\r\n",
    "from sklearn.preprocessing import OneHotEncoder"
   ],
   "outputs": [],
   "metadata": {}
  },
  {
   "cell_type": "code",
   "execution_count": 2,
   "source": [
    "\r\n",
    "df = pd.read_csv('data/breast-cancer-wisconsin.data.txt')\r\n",
    "df.replace('?', -99999, inplace=True) #sees -99999 as outlier, ignores it\r\n",
    "df.drop(['id'], 1, inplace=True) #id column seems useless, its just an id\r\n",
    "X = np.array(df.drop(['class'],1)) #using everything except class to train\r\n",
    "print(X)\r\n",
    "Y = np.array(df['class']) #class is the final result obviously\r\n",
    "\r\n",
    "X_train, X_test, Y_train, Y_test = train_test_split(X,Y, test_size=0.2)\r\n",
    "\r\n",
    "clf = svm.SVC() # we need to use SVR for predicting\r\n",
    "clf.fit(X_train, Y_train)\r\n",
    "\r\n",
    "accuracy = clf.score(X_test, Y_test)\r\n",
    "print(accuracy)\r\n",
    "\r\n",
    "example_measures = np.array([[4,2,1,1,1,2,3,2,1],[4,2,1,2,2,2,3,2,1]])\r\n",
    "example_measures = example_measures.reshape(len(example_measures), -1)\r\n",
    "prediction = clf.predict(example_measures)\r\n",
    "print(prediction)\r\n"
   ],
   "outputs": [
    {
     "output_type": "stream",
     "name": "stdout",
     "text": [
      "[[5 1 1 ... 3 1 1]\n",
      " [5 4 4 ... 3 2 1]\n",
      " [3 1 1 ... 3 1 1]\n",
      " ...\n",
      " [5 10 10 ... 8 10 2]\n",
      " [4 8 6 ... 10 6 1]\n",
      " [4 8 8 ... 10 4 1]]\n",
      "0.9571428571428572\n",
      "[2 2]\n"
     ]
    },
    {
     "output_type": "stream",
     "name": "stderr",
     "text": [
      "C:\\Users\\Jai\\AppData\\Local\\Programs\\Python\\Python37\\lib\\site-packages\\sklearn\\svm\\base.py:193: FutureWarning: The default value of gamma will change from 'auto' to 'scale' in version 0.22 to account better for unscaled features. Set gamma explicitly to 'auto' or 'scale' to avoid this warning.\n",
      "  \"avoid this warning.\", FutureWarning)\n"
     ]
    }
   ],
   "metadata": {}
  },
  {
   "cell_type": "code",
   "execution_count": 3,
   "source": [
    "\r\n",
    "\r\n",
    "df = pd.read_csv('data/2019 Line 280 AVL.csv')\r\n",
    "\r\n",
    "df1 = pd.get_dummies(df, columns=['Day of Week'],prefix=['Enc_'])\r\n",
    "df1 = df1.loc[df['Bus Stop ID'] == 775]\r\n",
    "\r\n",
    "df.fillna(value = -9999)\r\n",
    "enc = OneHotEncoder(handle_unknown='ignore')\r\n",
    "df1['Actual Depart Hour'] = df['Actual Depart'].str.split(':',expand=True)[0]\r\n",
    "\r\n",
    "# df.replace('?', -99999, inplace=True) #sees -99999 as outlier, ignores it\r\n",
    "df1.drop(['Bus Stop ID','Transit Date', 'Vehicle #', 'Block #', 'Route #', 'Trip #', 'Direction','Pattern','Bus Stop Name', 'Stop Sequence','Latitude','Longitude','Scheduled Depart','Actual Depart','Initial Performance Result','Reported Performance Results','Actual Arrival','Waivers','Dwell Time', 'Actual Run Time', 'Scheduled Operating Speed','Actual Operating Speed','Run Time Variance','Day Type','Time Period'], 1, inplace=True) #id column seems useless, its just an id\r\n",
    "print(df1.head)\r\n",
    "# pd.to_numeric(df1['Actual Operating Speed'], errors='coerce')\r\n",
    "X = np.array(df1.drop(['Difference (Minutes)'],1)) #using everything except class to train\r\n",
    "Y = np.array(df1['Difference (Minutes)']) #class is the final result obviously\r\n",
    "np.nan_to_num(X)\r\n",
    "np.nan_to_num(Y)\r\n",
    "pd.isnull(X)\r\n",
    "np.nan_to_num(X)\r\n",
    "\r\n",
    "X_train, X_test, Y_train, Y_test = train_test_split(X,Y, test_size=0.2)\r\n",
    "\r\n",
    "clf = svm.SVC()\r\n",
    "clf.fit(X_train, Y_train)\r\n",
    "\r\n",
    "accuracy = clf.score(X_test, Y_test)\r\n",
    "print(accuracy)\r\n",
    "\r\n",
    "\r\n"
   ],
   "outputs": [
    {
     "output_type": "stream",
     "name": "stdout",
     "text": [
      "<bound method NDFrame.head of         Difference (Minutes)  Scheduled Run Time  Miles from Prior Time Point  \\\n",
      "3                         -1                   8                        0.598   \n",
      "4                         -1                   0                        6.444   \n",
      "9                          0                   8                        6.444   \n",
      "10                         0                   0                        0.598   \n",
      "16                         1                   8                        6.444   \n",
      "...                      ...                 ...                          ...   \n",
      "202556                    14                   9                        6.444   \n",
      "202567                     8                   9                        6.444   \n",
      "202583                     2                   9                        6.444   \n",
      "202594                     2                   9                        6.444   \n",
      "202605                     1                   9                        6.444   \n",
      "\n",
      "        Enc__Friday  Enc__Monday  Enc__Saturday  Enc__Sunday  Enc__Thursday  \\\n",
      "3                 0            0              0            0              0   \n",
      "4                 0            0              0            0              0   \n",
      "9                 0            0              0            0              0   \n",
      "10                0            0              0            0              0   \n",
      "16                0            0              0            0              0   \n",
      "...             ...          ...            ...          ...            ...   \n",
      "202556            0            0              0            0              0   \n",
      "202567            0            1              0            0              0   \n",
      "202583            1            0              0            0              0   \n",
      "202594            0            0              0            0              1   \n",
      "202605            0            0              0            0              0   \n",
      "\n",
      "        Enc__Tuesday  Enc__Wednesday Actual Depart Hour  \n",
      "3                  1               0                  5  \n",
      "4                  1               0                  5  \n",
      "9                  1               0                  6  \n",
      "10                 1               0                  6  \n",
      "16                 1               0                  6  \n",
      "...              ...             ...                ...  \n",
      "202556             1               0                  7  \n",
      "202567             0               0                  7  \n",
      "202583             0               0                  7  \n",
      "202594             0               0                  7  \n",
      "202605             0               1                  7  \n",
      "\n",
      "[16007 rows x 11 columns]>\n"
     ]
    },
    {
     "output_type": "stream",
     "name": "stderr",
     "text": [
      "C:\\Users\\Jai\\AppData\\Local\\Programs\\Python\\Python37\\lib\\site-packages\\sklearn\\svm\\base.py:193: FutureWarning: The default value of gamma will change from 'auto' to 'scale' in version 0.22 to account better for unscaled features. Set gamma explicitly to 'auto' or 'scale' to avoid this warning.\n",
      "  \"avoid this warning.\", FutureWarning)\n"
     ]
    },
    {
     "output_type": "stream",
     "name": "stdout",
     "text": [
      "0.2570268582136165\n"
     ]
    }
   ],
   "metadata": {}
  }
 ],
 "metadata": {
  "orig_nbformat": 4,
  "language_info": {
   "name": "python",
   "version": "3.7.4",
   "mimetype": "text/x-python",
   "codemirror_mode": {
    "name": "ipython",
    "version": 3
   },
   "pygments_lexer": "ipython3",
   "nbconvert_exporter": "python",
   "file_extension": ".py"
  },
  "kernelspec": {
   "name": "python3",
   "display_name": "Python 3.7.4 64-bit"
  },
  "interpreter": {
   "hash": "663818bb3c4314dbd47e58b8e65a777ad8ae38914e19ed23958843e13f85a1f6"
  }
 },
 "nbformat": 4,
 "nbformat_minor": 2
}