{
 "cells": [
  {
   "cell_type": "code",
   "execution_count": 2,
   "metadata": {},
   "outputs": [],
   "source": [
    "import pandas as pd \n",
    "import matplotlib.pyplot as plt\n",
    "import numpy as np\n",
    "import datetime\n",
    "from scipy.stats import chi2_contingency\n",
    "import pandas as pd\n",
    "import numpy as np\n",
    "from sklearn import preprocessing, neighbors, svm\n",
    "from sklearn.model_selection import train_test_split\n",
    "from sklearn.preprocessing import OneHotEncoder\n",
    "from sklearn.model_selection import cross_val_score\n",
    "from sklearn.linear_model import SGDRegressor\n",
    "from sklearn.metrics import mean_squared_error,mean_absolute_error\n",
    "import pickle\n",
    "import statsmodels.formula.api as smf\n",
    "import scipy.stats as stats\n",
    "import seaborn as sns\n",
    "import statsmodels.api as sm\n",
    "\n",
    "# df = pd.read_csv('data/2020 Line 280 AVL report.csv')\n",
    "df = pd.read_csv('data/2019 Line 280 AVL allscripts.csv')\n",
    "df['Actual Depart Hour'] = df['Actual Depart'].str.split(':',expand=True)[0]\n",
    "df['Actual Depart Hour'] = df['Actual Depart Hour'].astype(int)\n",
    "df['Transit Date Month'] = df['Transit Date'].str.split('/',expand=True)[0]\n",
    "df['Transit Date Month'] = df['Transit Date Month'].astype(int)"
   ]
  },
  {
   "cell_type": "code",
   "execution_count": 3,
   "metadata": {},
   "outputs": [
    {
     "name": "stderr",
     "output_type": "stream",
     "text": [
      "C:\\Users\\schub\\AppData\\Local\\Temp/ipykernel_19008/1670809066.py:25: FutureWarning: In a future version of pandas all arguments of DataFrame.drop except for the argument 'labels' will be keyword-only\n",
      "  df1.drop(['Transit Date', 'Vehicle #', 'Block #', 'Route #', 'Trip #', 'Direction',\\\n",
      "C:\\Users\\schub\\AppData\\Local\\Temp/ipykernel_19008/1670809066.py:35: FutureWarning: In a future version of pandas all arguments of DataFrame.drop except for the argument 'labels' will be keyword-only\n",
      "  X = np.array(df1.drop(['Difference (Minutes)'],1)) #using everything except class to train\n"
     ]
    },
    {
     "name": "stdout",
     "output_type": "stream",
     "text": [
      "Wall time: 395 ms\n"
     ]
    },
    {
     "data": {
      "image/png": "[encoded data removed]",
      "text/plain": [
       "<Figure size 432x288 with 1 Axes>"
      ]
     },
     "metadata": {
      "needs_background": "light"
     },
     "output_type": "display_data"
    },
    {
     "name": "stdout",
     "output_type": "stream",
     "text": [
      "Mean Squared Error : 6.996648663293987\n",
      "Mean Absolute Error : 0.9873670785903323\n",
      "[0.65359936 0.56874678 0.91141551 0.79555028 0.79132976]\n",
      "0.74 accuracy with a standard deviation of 0.12\n"
     ]
    }
   ],
   "source": [
    "# df1 = df.copy()\n",
    "# df1 = df.loc[(df['Bus Stop ID'] == 775) | (df['Bus Stop ID'] == 782) | (df['Bus Stop ID'] == 733)]\n",
    "df1 = df.loc[(df['Bus Stop ID'] != 177)]\n",
    "df1 = df1.loc[(df1['Bus Stop ID'] != 738)]\n",
    "df1 = df1.loc[(df1['Bus Stop ID'] != 2199)]\n",
    "df1 = df1.loc[(df1['Bus Stop ID'] != 2384)]\n",
    "\n",
    "df1 = pd.get_dummies(df1, columns=['Actual Depart Hour', 'Transit Date Month', 'Day of Week', \\\n",
    "    'Miles from Prior Time Point', 'Bus Stop ID'],prefix=['Enc_Hour_', 'Enc_Month_', 'Enc_Day_',\\\n",
    "        'Enc_Miles_', 'Enc_Stop_'])\n",
    "# df1 = pd.get_dummies(df1, columns=['Actual Depart Hour', 'Transit Date Month', 'Day of Week', \\\n",
    "#     'Miles from Prior Time Point'],prefix=['Enc_Hour_', 'Enc_Month_', 'Enc_Day_',\\\n",
    "#         'Enc_Miles_'])\n",
    "# df1 = pd.get_dummies(df1, columns=['Transit Date Month'],prefix=['Enc_Month_'])\n",
    "\n",
    "# df1['Transit Date Month'] = df1['Transit Date'].str.split('/',expand=True)[0]\n",
    "df1.fillna(value = -9999)\n",
    "enc = OneHotEncoder(handle_unknown='ignore')\n",
    "\n",
    "df1['Difference (Minutes)'] = df1['Difference (Minutes)'].astype(int)\n",
    "df1['Prev Departure Offset'] = df1['Prev Departure Offset'].astype(int)\n",
    "# df1['Transit Date Month'] = df1['Transit Date Month'].astype(int)\n",
    "\n",
    "# df.replace('?', -99999, inplace=True) #sees -99999 as outlier, ignores it\n",
    "df1.drop(['Transit Date', 'Vehicle #', 'Block #', 'Route #', 'Trip #', 'Direction',\\\n",
    "    'Pattern','Bus Stop Name', 'Stop Sequence','Latitude','Longitude','Scheduled Depart','Actual Depart',\\\n",
    "        'Initial Performance Result','Reported Performance Results','Actual Arrival','Waivers',\\\n",
    "            'Dwell Time', 'Actual Run Time', 'Scheduled Operating Speed','Actual Operating Speed',\\\n",
    "                'Run Time Variance','Day Type','Time Period', 'Scheduled Run Time',\\\n",
    "                        'Scheduled Depart DateTime', 'Actual Depart DateTime', \\\n",
    "                            'Same Stop Prev Trip Departure Offset'\\\n",
    "                                ], 1, inplace=True)\n",
    "# print(df1.head)\n",
    "# pd.to_numeric(df1['Actual Operating Speed'], errors='coerce')\n",
    "X = np.array(df1.drop(['Difference (Minutes)'],1)) #using everything except class to train\n",
    "Y = np.array(df1['Difference (Minutes)']) #class is the final result obviously\n",
    "np.nan_to_num(X)\n",
    "np.nan_to_num(Y)\n",
    "pd.isnull(X)\n",
    "np.nan_to_num(X)\n",
    "\n",
    "X_train, X_test, Y_train, Y_test = train_test_split(X,Y, test_size=0.2)\n",
    "\n",
    "# lr_sgd = SGDRegressor(penalty='elasticnet')\n",
    "lr_sgd = SGDRegressor(loss='huber', penalty='elasticnet')\n",
    "%time lr_sgd.fit(X_train, Y_train)\n",
    "\n",
    "filename = 'models/2019_lr_sgd_model_9_15.sav'\n",
    "pickle.dump(lr_sgd, open(filename, 'wb'))\n",
    "\n",
    "plt.scatter(Y_test, lr_sgd.predict(X_test))\n",
    "plt.grid()\n",
    "plt.xlabel('Actual y')\n",
    "plt.ylabel('Predicted y')\n",
    "plt.title('scatter plot between actual y and predicted y')\n",
    "plt.show()\n",
    "print('Mean Squared Error :',mean_squared_error(Y_test, lr_sgd.predict(X_test)))\n",
    "print('Mean Absolute Error :',mean_absolute_error(Y_test, lr_sgd.predict(X_test)))\n",
    "\n",
    "scores = cross_val_score(lr_sgd, X_test, Y_test, cv=5)\n",
    "\n",
    "print(scores)\n",
    "print(\"%0.2f accuracy with a standard deviation of %0.2f\" % (scores.mean(), scores.std()))\n",
    "\n",
    "# fig, ax = plt.subplots(nrows=1, ncols=1, figsize=(10,4), sharey=True)\n",
    "# ax.plot(X_train, clf.fit(X_train, Y_train).predict(X_train), lw=2)\n",
    "# ax.scatter(X_train[clf.support_], Y_train[clf.support_], facecolor=\"none\",s=50)\n",
    "# # ax.scatter(X_test[np.setdiff1d(np.arange(len(X_test)),clf.support_)],\n",
    "# #            Y_test[np.setdiff1d(np.arange(len(X_test)), clf.support_)],\n",
    "# #            facecolor=\"none\", edgecolor=\"k\", s=50)\n",
    "\n",
    "\n",
    "# fig.text(0.5, 0.04, 'data', ha='center', va='center')\n",
    "# fig.text(0.06, 0.5, 'target', ha='center', va='center', rotation='vertical')\n",
    "# fig.suptitle(\"Support Vector Regression\", fontsize=14)\n",
    "# plt.show()"
   ]
  },
  {
   "cell_type": "code",
   "execution_count": 4,
   "metadata": {},
   "outputs": [],
   "source": [
    "\n",
    "# df1 = df.copy()\n",
    "# df1 = df.loc[(df['Bus Stop ID'] == 775) | (df['Bus Stop ID'] == 782) | (df['Bus Stop ID'] == 733)]\n",
    "\n",
    "\n",
    "\n",
    "\n",
    "\n",
    "#################################################################################\n",
    "# df1 = df.loc[(df['Bus Stop ID'] != 177)]\n",
    "# df1 = df1.loc[(df1['Bus Stop ID'] != 738)]\n",
    "# df1 = df1.loc[(df1['Bus Stop ID'] != 2199)]\n",
    "# df1 = df1.loc[(df1['Bus Stop ID'] != 2384)]\n",
    "\n",
    "# df1 = pd.get_dummies(df1, columns=['Actual Depart Hour', 'Transit Date Month', 'Day of Week', \\\n",
    "#     'Miles from Prior Time Point', 'Bus Stop ID'],prefix=['Enc_Hour_', 'Enc_Month_', 'Enc_Day_',\\\n",
    "#         'Enc_Miles_', 'Enc_Stop_'])\n",
    "# # df1 = pd.get_dummies(df1, columns=['Actual Depart Hour', 'Transit Date Month', 'Day of Week', \\\n",
    "# #     'Miles from Prior Time Point'],prefix=['Enc_Hour_', 'Enc_Month_', 'Enc_Day_',\\\n",
    "# #         'Enc_Miles_'])\n",
    "# # df1 = pd.get_dummies(df1, columns=['Transit Date Month'],prefix=['Enc_Month_'])\n",
    "\n",
    "# # df1['Transit Date Month'] = df1['Transit Date'].str.split('/',expand=True)[0]\n",
    "# df1.fillna(value = -9999)\n",
    "# enc = OneHotEncoder(handle_unknown='ignore')\n",
    "\n",
    "# df1['Difference (Minutes)'] = df1['Difference (Minutes)'].astype(int)\n",
    "# df1['Prev Departure Offset'] = df1['Prev Departure Offset'].astype(int)\n",
    "# # df1['Transit Date Month'] = df1['Transit Date Month'].astype(int)\n",
    "\n",
    "# # df.replace('?', -99999, inplace=True) #sees -99999 as outlier, ignores it\n",
    "# df1.drop(['Transit Date', 'Vehicle #', 'Block #', 'Route #', 'Trip #', 'Direction',\\\n",
    "#     'Pattern','Bus Stop Name', 'Stop Sequence','Latitude','Longitude','Scheduled Depart','Actual Depart',\\\n",
    "#         'Initial Performance Result','Reported Performance Results','Actual Arrival','Waivers',\\\n",
    "#             'Dwell Time', 'Actual Run Time', 'Scheduled Operating Speed','Actual Operating Speed',\\\n",
    "#                 'Run Time Variance','Day Type','Time Period', 'Scheduled Run Time',\\\n",
    "#                         'Scheduled Depart DateTime', 'Actual Depart DateTime', \\\n",
    "#                             'Same Stop Prev Trip Departure Offset'\\\n",
    "#                                 ], 1, inplace=True)\n",
    "# print(df1.head)\n",
    "# # pd.to_numeric(df1['Actual Operating Speed'], errors='coerce')\n",
    "# X = np.array(df1.drop(['Difference (Minutes)'],1)) #using everything except class to train\n",
    "# Y = np.array(df1['Difference (Minutes)']) #class is the final result obviously\n",
    "# np.nan_to_num(X)\n",
    "# np.nan_to_num(Y)\n",
    "# pd.isnull(X)\n",
    "# np.nan_to_num(X)\n",
    "\n",
    "# X_train, X_test, Y_train, Y_test = train_test_split(X,Y, test_size=0.2)\n",
    "\n",
    "# clf = svm.SVR()\n",
    "# %time clf.fit(X_train, Y_train)\n",
    "\n",
    "# scores = cross_val_score(clf, X_test, Y_test, cv=5)\n",
    "\n",
    "# print(scores)\n",
    "# print(\"%0.2f accuracy with a standard deviation of %0.2f\" % (scores.mean(), scores.std()))\n",
    "#################################################################################\n",
    "\n",
    "\n",
    "\n",
    "\n",
    "\n",
    "# fig, ax = plt.subplots(nrows=1, ncols=1, figsize=(10,4), sharey=True)\n",
    "# ax.plot(X_train, clf.fit(X_train, Y_train).predict(X_train), lw=2)\n",
    "# ax.scatter(X_train[clf.support_], Y_train[clf.support_], facecolor=\"none\",s=50)\n",
    "# # ax.scatter(X_test[np.setdiff1d(np.arange(len(X_test)),clf.support_)],\n",
    "# #            Y_test[np.setdiff1d(np.arange(len(X_test)), clf.support_)],\n",
    "# #            facecolor=\"none\", edgecolor=\"k\", s=50)\n",
    "\n",
    "\n",
    "# fig.text(0.5, 0.04, 'data', ha='center', va='center')\n",
    "# fig.text(0.06, 0.5, 'target', ha='center', va='center', rotation='vertical')\n",
    "# fig.suptitle(\"Support Vector Regression\", fontsize=14)\n",
    "# plt.show()"
   ]
  },
  {
   "cell_type": "code",
   "execution_count": 5,
   "metadata": {},
   "outputs": [
    {
     "name": "stderr",
     "output_type": "stream",
     "text": [
      "C:\\Users\\schub\\AppData\\Local\\Temp/ipykernel_19008/1148682582.py:13: FutureWarning: In a future version of pandas all arguments of DataFrame.drop except for the argument 'labels' will be keyword-only\n",
      "  df1.drop(['Transit Date', 'Vehicle #', 'Block #', 'Route #', 'Trip #', 'Direction',\\\n",
      "C:\\Users\\schub\\AppData\\Local\\Temp/ipykernel_19008/1148682582.py:23: FutureWarning: In a future version of pandas all arguments of DataFrame.drop except for the argument 'labels' will be keyword-only\n",
      "  X = np.array(df1.drop(['Difference (Minutes)'],1)) #using everything except class to train\n"
     ]
    },
    {
     "name": "stdout",
     "output_type": "stream",
     "text": [
      "<bound method NDFrame.head of         Difference (Minutes)  Prev Departure Offset  Enc_Hour__0  Enc_Hour__1  \\\n",
      "0                          2                      0            0            0   \n",
      "1                          0                      2            0            0   \n",
      "2                          0                      0            0            0   \n",
      "3                          1                      0            0            0   \n",
      "4                          1                      1            0            0   \n",
      "...                      ...                    ...          ...          ...   \n",
      "202608                     0                      0            0            0   \n",
      "202609                     0                      0            0            0   \n",
      "202610                     0                      0            0            0   \n",
      "202611                     0                      0            0            0   \n",
      "202612                     0                      0            0            0   \n",
      "\n",
      "        Enc_Hour__5  Enc_Hour__6  Enc_Hour__7  Enc_Hour__8  Enc_Hour__9  \\\n",
      "0                 0            0            1            0            0   \n",
      "1                 0            0            1            0            0   \n",
      "2                 0            0            1            0            0   \n",
      "3                 0            0            1            0            0   \n",
      "4                 0            0            1            0            0   \n",
      "...             ...          ...          ...          ...          ...   \n",
      "202608            0            0            0            0            0   \n",
      "202609            0            0            0            0            0   \n",
      "202610            0            0            0            0            0   \n",
      "202611            0            0            0            0            0   \n",
      "202612            0            0            0            0            0   \n",
      "\n",
      "        Enc_Hour__10  ...  Enc_Month__10  Enc_Month__11  Enc_Month__12  \\\n",
      "0                  0  ...              0              0              0   \n",
      "1                  0  ...              0              0              0   \n",
      "2                  0  ...              0              0              0   \n",
      "3                  0  ...              0              0              0   \n",
      "4                  0  ...              0              0              0   \n",
      "...              ...  ...            ...            ...            ...   \n",
      "202608             0  ...              0              0              1   \n",
      "202609             0  ...              0              0              1   \n",
      "202610             0  ...              0              0              1   \n",
      "202611             0  ...              0              0              1   \n",
      "202612             0  ...              0              0              1   \n",
      "\n",
      "        Enc_Day__Friday  Enc_Day__Monday  Enc_Day__Saturday  Enc_Day__Sunday  \\\n",
      "0                     0                0                  0                0   \n",
      "1                     0                0                  0                0   \n",
      "2                     0                0                  0                0   \n",
      "3                     0                0                  0                0   \n",
      "4                     0                0                  0                0   \n",
      "...                 ...              ...                ...              ...   \n",
      "202608                0                0                  0                0   \n",
      "202609                0                0                  0                0   \n",
      "202610                0                0                  0                0   \n",
      "202611                0                0                  0                0   \n",
      "202612                0                0                  0                0   \n",
      "\n",
      "        Enc_Day__Thursday  Enc_Day__Tuesday  Enc_Day__Wednesday  \n",
      "0                       0                 0                   1  \n",
      "1                       0                 0                   1  \n",
      "2                       0                 0                   1  \n",
      "3                       0                 0                   1  \n",
      "4                       0                 0                   1  \n",
      "...                   ...               ...                 ...  \n",
      "202608                  0                 1                   0  \n",
      "202609                  0                 1                   0  \n",
      "202610                  0                 1                   0  \n",
      "202611                  0                 1                   0  \n",
      "202612                  0                 1                   0  \n",
      "\n",
      "[202613 rows x 42 columns]>\n",
      "Wall time: 202 ms\n"
     ]
    },
    {
     "data": {
      "image/png": "[encoded data removed]",
      "text/plain": [
       "<Figure size 432x288 with 1 Axes>"
      ]
     },
     "metadata": {
      "needs_background": "light"
     },
     "output_type": "display_data"
    },
    {
     "name": "stdout",
     "output_type": "stream",
     "text": [
      "Mean Squared Error : 12.656993450454854\n",
      "Mean Absolute Error : 1.4913891648758983\n",
      "[0.62637582 0.5560234  0.57162432 0.41920865 0.44099074]\n",
      "0.52 accuracy with a standard deviation of 0.08\n"
     ]
    }
   ],
   "source": [
    "df1 = df.copy()\n",
    "\n",
    "\n",
    "df1 = pd.get_dummies(df1, columns=['Actual Depart Hour', 'Transit Date Month', 'Day of Week']\\\n",
    "    ,prefix=['Enc_Hour_', 'Enc_Month_', 'Enc_Day_'])\n",
    "\n",
    "df1.fillna(value = -9999)\n",
    "enc = OneHotEncoder(handle_unknown='ignore')\n",
    "\n",
    "df1['Prev Departure Offset'] = df1['Prev Departure Offset'].astype(int)\n",
    "df1['Difference (Minutes)'] = df1['Difference (Minutes)'].astype(int)\n",
    "\n",
    "df1.drop(['Transit Date', 'Vehicle #', 'Block #', 'Route #', 'Trip #', 'Direction',\\\n",
    "    'Pattern','Bus Stop Name', 'Stop Sequence','Latitude','Longitude','Scheduled Depart','Actual Depart',\\\n",
    "   'Miles from Prior Time Point', 'Bus Stop ID',\n",
    "        'Initial Performance Result','Reported Performance Results','Actual Arrival','Waivers',\\\n",
    "            'Dwell Time', 'Scheduled Operating Speed','Actual Operating Speed',\\\n",
    "                'Run Time Variance','Day Type','Time Period',\\\n",
    "                        'Scheduled Depart DateTime', 'Actual Depart DateTime', \\\n",
    "                            'Same Stop Prev Trip Departure Offset', \\\n",
    "                                'Scheduled Run Time', 'Actual Run Time'], 1, inplace=True)\n",
    "print(df1.head)\n",
    "X = np.array(df1.drop(['Difference (Minutes)'],1)) #using everything except class to train\n",
    "Y = np.array(df1['Difference (Minutes)']) #class is the final result obviously\n",
    "np.nan_to_num(X)\n",
    "np.nan_to_num(Y)\n",
    "pd.isnull(X)\n",
    "np.nan_to_num(X)\n",
    "\n",
    "X_train, X_test, Y_train, Y_test = train_test_split(X,Y, test_size=0.2)\n",
    "\n",
    "lr_sgd = SGDRegressor(loss='huber')\n",
    "%time lr_sgd.fit(X_train, Y_train)\n",
    "\n",
    "filename = 'models/2019_lr_sgd_model_9_15.sav'\n",
    "pickle.dump(lr_sgd, open(filename, 'wb'))\n",
    "\n",
    "plt.scatter(Y_test, lr_sgd.predict(X_test))\n",
    "plt.grid()\n",
    "plt.xlabel('Actual y')\n",
    "plt.ylabel('Predicted y')\n",
    "plt.title('scatter plot between actual y and predicted y')\n",
    "plt.show()\n",
    "print('Mean Squared Error :',mean_squared_error(Y_test, lr_sgd.predict(X_test)))\n",
    "print('Mean Absolute Error :',mean_absolute_error(Y_test, lr_sgd.predict(X_test)))\n",
    "\n",
    "scores = cross_val_score(lr_sgd, X_test, Y_test, cv=5)\n",
    "\n",
    "print(scores)\n",
    "print(\"%0.2f accuracy with a standard deviation of %0.2f\" % (scores.mean(), scores.std()))"
   ]
  },
  {
   "cell_type": "code",
   "execution_count": 6,
   "metadata": {},
   "outputs": [
    {
     "name": "stderr",
     "output_type": "stream",
     "text": [
      "C:\\Users\\schub\\AppData\\Local\\Temp/ipykernel_19008/3243521475.py:11: MatplotlibDeprecationWarning: Case-insensitive properties were deprecated in 3.3 and support will be removed two minor releases later\n",
      "  ax1.set(Title=\"2019 Bus Run Time Correlation with Scheduled Run Time\")\n",
      "No handles with labels found to put in legend.\n"
     ]
    },
    {
     "data": {
      "image/png": "[encoded data removed]",
      "text/plain": [
       "<Figure size 720x504 with 1 Axes>"
      ]
     },
     "metadata": {
      "needs_background": "light"
     },
     "output_type": "display_data"
    },
    {
     "data": {
      "text/plain": [
       "0.7539703524135235"
      ]
     },
     "execution_count": 6,
     "metadata": {},
     "output_type": "execute_result"
    }
   ],
   "source": [
    "stopactual = df\n",
    "stopactual\n",
    "stopactual['Prev Departure Offset'] = stopactual['Prev Departure Offset'].astype(int)\n",
    "stopactual['Difference (Minutes)'] = stopactual['Difference (Minutes)'].astype(int)\n",
    "\n",
    "f=plt.figure(figsize=(10,7))\n",
    "\n",
    "ax1=f.add_subplot(111)\n",
    "ax1.set_xlim(left = -25,right=100)\n",
    "ax1.set_ylim(bottom=-25,top=100)\n",
    "ax1.set(Title=\"2019 Bus Run Time Correlation with Scheduled Run Time\")\n",
    "# plt.ylim(0,15)\n",
    "ax1.scatter(stopactual['Prev Departure Offset'], stopactual['Difference (Minutes)'])\n",
    "plt.setp(ax1.get_xticklabels(), visible=False)\n",
    "plt.legend()\n",
    "plt.grid()\n",
    "\n",
    "ax1.set(xlabel=\"Prev Departure Offset\")\n",
    "ax1.set(ylabel=\"Difference (Minutes)\")\n",
    "\n",
    "locs, labels = plt.xticks() \n",
    "\n",
    "\n",
    "\n",
    "plt.show()\n",
    "\n",
    "df['Prev Departure Offset'].corr(df['Difference (Minutes)'])"
   ]
  },
  {
   "cell_type": "code",
   "execution_count": 7,
   "metadata": {},
   "outputs": [
    {
     "name": "stdout",
     "output_type": "stream",
     "text": [
      "0.4404011588595006\n"
     ]
    }
   ],
   "source": [
    "print(df.loc[df['Run Time Variance']==0].shape[0]/df.shape[0])"
   ]
  },
  {
   "cell_type": "code",
   "execution_count": 17,
   "metadata": {},
   "outputs": [
    {
     "name": "stderr",
     "output_type": "stream",
     "text": [
      "C:\\Users\\schub\\AppData\\Local\\Temp/ipykernel_19008/2843541732.py:7: FutureWarning: In a future version of pandas all arguments of DataFrame.drop except for the argument 'labels' will be keyword-only\n",
      "  df1.drop(['Transit Date', 'Vehicle #', 'Block #', 'Route #', 'Trip #', 'Direction',\\\n"
     ]
    },
    {
     "name": "stdout",
     "output_type": "stream",
     "text": [
      "    Bus Stop ID  Difference (Minutes) Day of Week  Actual Depart Hour  \\\n",
      "0           738                   2.0   Wednesday                   7   \n",
      "6          2384                  -2.0   Wednesday                   8   \n",
      "11          738                   6.0    Thursday                   7   \n",
      "12          744                   4.0    Thursday                   7   \n",
      "17         2384                   0.0    Thursday                   8   \n",
      "\n",
      "    Prev Departure Offset  Transit Date Month  Predicted Difference (Minutes)  \\\n",
      "0                     0.0                   1                        0.578363   \n",
      "6                     0.0                   1                        0.670817   \n",
      "11                    0.0                   1                        0.623949   \n",
      "12                    6.0                   1                        5.442745   \n",
      "17                    0.0                   1                        0.716403   \n",
      "\n",
      "    Predict = Actual  Predicted Error  \n",
      "0              False         0.710818  \n",
      "6              False         3.981440  \n",
      "11             False         0.896008  \n",
      "12             False         0.265077  \n",
      "17             False         1.000000  \n"
     ]
    }
   ],
   "source": [
    "df1 = df.copy()\n",
    "df1.fillna(value = -999999)\n",
    "df1['Difference (Minutes)'] = df1['Difference (Minutes)'].astype(float)\n",
    "df1['Prev Departure Offset'] = df1['Prev Departure Offset'].astype(float)\n",
    "\n",
    "\n",
    "df1.drop(['Transit Date', 'Vehicle #', 'Block #', 'Route #', 'Trip #', 'Direction',\\\n",
    "    'Pattern','Bus Stop Name', 'Stop Sequence','Latitude','Longitude','Scheduled Depart','Actual Depart',\\\n",
    "   'Miles from Prior Time Point',\n",
    "        'Initial Performance Result','Reported Performance Results','Actual Arrival','Waivers',\\\n",
    "            'Dwell Time', 'Scheduled Operating Speed','Actual Operating Speed',\\\n",
    "                'Run Time Variance','Day Type','Time Period',\\\n",
    "                        'Scheduled Depart DateTime', 'Actual Depart DateTime', \\\n",
    "                            'Same Stop Prev Trip Departure Offset', \\\n",
    "                                'Scheduled Run Time', 'Actual Run Time'], 1, inplace=True)\n",
    "\n",
    "train=df1.sample(frac=0.8)\n",
    "test=df1.drop(train.index)\n",
    "# X_test = np.array(test.drop(['Difference (Minutes)'],1))\n",
    "# Y_test = np.array(test['Difference (Minutes)')\n",
    "\n",
    "model = smf.mixedlm('Q(\"Difference (Minutes)\") ~ Q(\"Prev Departure Offset\") + C(Q(\"Actual Depart Hour\")) + C(Q(\"Transit Date Month\")) + C(Q(\"Day of Week\"))',data = train,groups = \"Bus Stop ID\").fit()\n",
    "# print(model.summary())\n",
    "test['Predicted Difference (Minutes)'] = model.predict(test)\n",
    "test['Predict = Actual'] = test['Difference (Minutes)'] == test['Predicted Difference (Minutes)']\n",
    "\n",
    "test['Predicted Error'] = abs(test['Difference (Minutes)']-test['Predicted Difference (Minutes)'])/test[['Difference (Minutes)', 'Predicted Difference (Minutes)']].max(axis=1)\n",
    "test.fillna(0)\n",
    "print(test.head())"
   ]
  },
  {
   "cell_type": "code",
   "execution_count": 8,
   "metadata": {},
   "outputs": [
    {
     "name": "stdout",
     "output_type": "stream",
     "text": [
      "<bound method NDFrame.head of         Difference (Minutes)  Scheduled Run Time  Actual Run Time  \\\n",
      "0                          2                   0                0   \n",
      "1                          0                   8                6   \n",
      "2                          0                   6                6   \n",
      "3                          1                   9               10   \n",
      "4                          1                   0                6   \n",
      "...                      ...                 ...              ...   \n",
      "202608                     0                   0                0   \n",
      "202609                     0                   9                9   \n",
      "202610                     0                   0               10   \n",
      "202611                     0                   0                3   \n",
      "202612                     0                   0                6   \n",
      "\n",
      "        Enc_Hour__0  Enc_Hour__1  Enc_Hour__5  Enc_Hour__6  Enc_Hour__7  \\\n",
      "0                 0            0            0            0            1   \n",
      "1                 0            0            0            0            1   \n",
      "2                 0            0            0            0            1   \n",
      "3                 0            0            0            0            1   \n",
      "4                 0            0            0            0            1   \n",
      "...             ...          ...          ...          ...          ...   \n",
      "202608            0            0            0            0            0   \n",
      "202609            0            0            0            0            0   \n",
      "202610            0            0            0            0            0   \n",
      "202611            0            0            0            0            0   \n",
      "202612            0            0            0            0            0   \n",
      "\n",
      "        Enc_Hour__8  Enc_Hour__9  ...  Enc_Month__10  Enc_Month__11  \\\n",
      "0                 0            0  ...              0              0   \n",
      "1                 0            0  ...              0              0   \n",
      "2                 0            0  ...              0              0   \n",
      "3                 0            0  ...              0              0   \n",
      "4                 0            0  ...              0              0   \n",
      "...             ...          ...  ...            ...            ...   \n",
      "202608            0            0  ...              0              0   \n",
      "202609            0            0  ...              0              0   \n",
      "202610            0            0  ...              0              0   \n",
      "202611            0            0  ...              0              0   \n",
      "202612            0            0  ...              0              0   \n",
      "\n",
      "        Enc_Month__12  Enc_Day__Friday  Enc_Day__Monday  Enc_Day__Saturday  \\\n",
      "0                   0                0                0                  0   \n",
      "1                   0                0                0                  0   \n",
      "2                   0                0                0                  0   \n",
      "3                   0                0                0                  0   \n",
      "4                   0                0                0                  0   \n",
      "...               ...              ...              ...                ...   \n",
      "202608              1                0                0                  0   \n",
      "202609              1                0                0                  0   \n",
      "202610              1                0                0                  0   \n",
      "202611              1                0                0                  0   \n",
      "202612              1                0                0                  0   \n",
      "\n",
      "        Enc_Day__Sunday  Enc_Day__Thursday  Enc_Day__Tuesday  \\\n",
      "0                     0                  0                 0   \n",
      "1                     0                  0                 0   \n",
      "2                     0                  0                 0   \n",
      "3                     0                  0                 0   \n",
      "4                     0                  0                 0   \n",
      "...                 ...                ...               ...   \n",
      "202608                0                  0                 1   \n",
      "202609                0                  0                 1   \n",
      "202610                0                  0                 1   \n",
      "202611                0                  0                 1   \n",
      "202612                0                  0                 1   \n",
      "\n",
      "        Enc_Day__Wednesday  \n",
      "0                        1  \n",
      "1                        1  \n",
      "2                        1  \n",
      "3                        1  \n",
      "4                        1  \n",
      "...                    ...  \n",
      "202608                   0  \n",
      "202609                   0  \n",
      "202610                   0  \n",
      "202611                   0  \n",
      "202612                   0  \n",
      "\n",
      "[202613 rows x 43 columns]>\n"
     ]
    },
    {
     "name": "stderr",
     "output_type": "stream",
     "text": [
      "C:\\Users\\schub\\AppData\\Local\\Temp/ipykernel_19008/2929631286.py:22: FutureWarning: In a future version of pandas all arguments of DataFrame.drop except for the argument 'labels' will be keyword-only\n",
      "  X = np.array(df2.drop(['Difference (Minutes)'],1)) #using everything except class to train\n"
     ]
    },
    {
     "name": "stdout",
     "output_type": "stream",
     "text": [
      "Wall time: 234 ms\n"
     ]
    },
    {
     "data": {
      "image/png": "[encoded data removed]",
      "text/plain": [
       "<Figure size 432x288 with 1 Axes>"
      ]
     },
     "metadata": {
      "needs_background": "light"
     },
     "output_type": "display_data"
    },
    {
     "name": "stdout",
     "output_type": "stream",
     "text": [
      "Mean Squared Error : 29.301203192282767\n",
      "Mean Absolute Error : 2.730921756553456\n",
      "[-0.12121022 -0.09655891 -0.11715225 -0.11234138 -0.47768067]\n",
      "-0.18 accuracy with a standard deviation of 0.15\n"
     ]
    }
   ],
   "source": [
    "df2 = df.copy()\n",
    "\n",
    "df2 = pd.get_dummies(df2, columns=['Actual Depart Hour', 'Transit Date Month', 'Day of Week']\\\n",
    "    ,prefix=['Enc_Hour_', 'Enc_Month_', 'Enc_Day_'])\n",
    "\n",
    "df2.fillna(value = -9999)\n",
    "enc = OneHotEncoder(handle_unknown='ignore')\n",
    "\n",
    "df2['Scheduled Run Time'] = df2['Scheduled Run Time'].astype(int)\n",
    "df2['Difference (Minutes)'] = df2['Difference (Minutes)'].astype(int)\n",
    "\n",
    "df2.drop(['Transit Date', 'Vehicle #', 'Block #', 'Route #', 'Trip #', 'Direction',\\\n",
    "    'Pattern','Bus Stop Name', 'Stop Sequence','Latitude','Longitude','Scheduled Depart','Actual Depart',\\\n",
    "   'Miles from Prior Time Point', 'Bus Stop ID', \\\n",
    "        'Initial Performance Result','Reported Performance Results','Actual Arrival','Waivers',\\\n",
    "            'Dwell Time', 'Scheduled Operating Speed','Actual Operating Speed',\\\n",
    "                'Run Time Variance','Day Type','Time Period',\\\n",
    "                        'Scheduled Depart DateTime', 'Actual Depart DateTime', \\\n",
    "                            'Same Stop Prev Trip Departure Offset', \\\n",
    "                                 'Prev Departure Offset'], axis = 1, inplace=True)\n",
    "print(df2.head)\n",
    "X = np.array(df2.drop(['Difference (Minutes)'],1)) #using everything except class to train\n",
    "Y = np.array(df2['Difference (Minutes)']) #class is the final result obviously\n",
    "np.nan_to_num(X)\n",
    "np.nan_to_num(Y)\n",
    "pd.isnull(X)\n",
    "np.nan_to_num(X)\n",
    "\n",
    "X_train, X_test, Y_train, Y_test = train_test_split(X,Y, test_size=0.2)\n",
    "\n",
    "lr_sgd = SGDRegressor(loss='huber')\n",
    "%time lr_sgd.fit(X_train, Y_train)\n",
    "\n",
    "\n",
    "\n",
    "plt.scatter(Y_test, lr_sgd.predict(X_test))\n",
    "plt.grid()\n",
    "plt.xlabel('Actual y')\n",
    "plt.ylabel('Predicted y')\n",
    "plt.title('scatter plot between actual y and predicted y')\n",
    "plt.show()\n",
    "print('Mean Squared Error :',mean_squared_error(Y_test, lr_sgd.predict(X_test)))\n",
    "print('Mean Absolute Error :',mean_absolute_error(Y_test, lr_sgd.predict(X_test)))\n",
    "\n",
    "scores = cross_val_score(lr_sgd, X_test, Y_test, cv=5)\n",
    "print(scores)\n",
    "print(\"%0.2f accuracy with a standard deviation of %0.2f\" % (scores.mean(), scores.std()))"
   ]
  },
  {
   "cell_type": "code",
   "execution_count": 12,
   "metadata": {},
   "outputs": [
    {
     "name": "stderr",
     "output_type": "stream",
     "text": [
      "C:\\Users\\schub\\AppData\\Local\\Temp/ipykernel_19008/1648323909.py:22: FutureWarning: In a future version of pandas all arguments of DataFrame.drop except for the argument 'labels' will be keyword-only\n",
      "  X = np.array(df2.drop(['Difference (Minutes)'],1)) #using everything except class to train\n"
     ]
    },
    {
     "data": {
      "text/html": [
       "<table class=\"simpletable\">\n",
       "<tr>\n",
       "       <td>Model:</td>       <td>MixedLM</td> <td>Dependent Variable:</td> <td>Q(\"Prev Departure Offset\")</td>\n",
       "</tr>\n",
       "<tr>\n",
       "  <td>No. Observations:</td> <td>202613</td>        <td>Method:</td>                  <td>REML</td>           \n",
       "</tr>\n",
       "<tr>\n",
       "     <td>No. Groups:</td>      <td>12</td>          <td>Scale:</td>                  <td>8.9508</td>          \n",
       "</tr>\n",
       "<tr>\n",
       "  <td>Min. group size:</td>   <td>10500</td>    <td>Log-Likelihood:</td>          <td>-509587.0694</td>       \n",
       "</tr>\n",
       "<tr>\n",
       "  <td>Max. group size:</td>   <td>23107</td>      <td>Converged:</td>                  <td>Yes</td>           \n",
       "</tr>\n",
       "<tr>\n",
       "  <td>Mean group size:</td>  <td>16884.4</td>          <td></td>                        <td></td>             \n",
       "</tr>\n",
       "</table>\n",
       "<table class=\"simpletable\">\n",
       "<tr>\n",
       "              <td></td>              <th>Coef.</th> <th>Std.Err.</th>    <th>z</th>    <th>P>|z|</th> <th>[0.025</th> <th>0.975]</th>\n",
       "</tr>\n",
       "<tr>\n",
       "  <th>Intercept</th>                 <td>0.593</td>   <td>0.397</td>   <td>1.492</td>  <td>0.136</td> <td>-0.186</td>  <td>1.372</td>\n",
       "</tr>\n",
       "<tr>\n",
       "  <th>Q(\"Difference (Minutes)\")</th> <td>0.755</td>   <td>0.001</td>  <td>569.641</td> <td>0.000</td>  <td>0.753</td>  <td>0.758</td>\n",
       "</tr>\n",
       "<tr>\n",
       "  <th>Bus Stop ID Var</th>           <td>1.894</td>   <td>0.277</td>     <td></td>       <td></td>       <td></td>       <td></td>   \n",
       "</tr>\n",
       "</table>"
      ],
      "text/plain": [
       "<class 'statsmodels.iolib.summary2.Summary'>\n",
       "\"\"\"\n",
       "                 Mixed Linear Model Regression Results\n",
       "========================================================================\n",
       "Model:            MixedLM Dependent Variable: Q(\"Prev Departure Offset\")\n",
       "No. Observations: 202613  Method:             REML                      \n",
       "No. Groups:       12      Scale:              8.9508                    \n",
       "Min. group size:  10500   Log-Likelihood:     -509587.0694              \n",
       "Max. group size:  23107   Converged:          Yes                       \n",
       "Mean group size:  16884.4                                               \n",
       "------------------------------------------------------------------------\n",
       "                              Coef. Std.Err.    z    P>|z| [0.025 0.975]\n",
       "------------------------------------------------------------------------\n",
       "Intercept                     0.593    0.397   1.492 0.136 -0.186  1.372\n",
       "Q(\"Difference (Minutes)\")     0.755    0.001 569.641 0.000  0.753  0.758\n",
       "Bus Stop ID Var               1.894    0.277                            \n",
       "========================================================================\n",
       "\n",
       "\"\"\""
      ]
     },
     "execution_count": 12,
     "metadata": {},
     "output_type": "execute_result"
    }
   ],
   "source": [
    "df3 = df.copy()\n",
    "\n",
    "df3 = pd.get_dummies(df3, columns=['Actual Depart Hour', 'Transit Date Month', 'Day of Week']\\\n",
    "    ,prefix=['Enc_Hour_', 'Enc_Month_', 'Enc_Day_'])\n",
    "\n",
    "df3.fillna(value = -9999)\n",
    "enc = OneHotEncoder(handle_unknown='ignore')\n",
    "\n",
    "df3['Prev Departure Offset'] = df3['Prev Departure Offset'].astype(int)\n",
    "df3['Difference (Minutes)'] = df3['Difference (Minutes)'].astype(int)\n",
    "\n",
    "df3.drop(['Transit Date', 'Vehicle #', 'Block #', 'Route #', 'Trip #', 'Direction',\\\n",
    "    'Pattern','Bus Stop Name', 'Stop Sequence','Latitude','Longitude','Scheduled Depart','Actual Depart',\\\n",
    "   'Miles from Prior Time Point',\\\n",
    "        'Initial Performance Result','Reported Performance Results','Actual Arrival','Waivers',\\\n",
    "            'Dwell Time', 'Scheduled Operating Speed','Actual Operating Speed',\\\n",
    "                'Run Time Variance','Day Type','Time Period',\\\n",
    "                        'Scheduled Depart DateTime', 'Actual Depart DateTime', \\\n",
    "                            'Same Stop Prev Trip Departure Offset', \\\n",
    "                                 'Scheduled Run Time'], axis = 1, inplace=True)\n",
    "\n",
    "X = np.array(df2.drop(['Difference (Minutes)'],1)) #using everything except class to train\n",
    "Y = np.array(df2['Difference (Minutes)']) #class is the final result obviously\n",
    "np.nan_to_num(X)\n",
    "np.nan_to_num(Y)\n",
    "pd.isnull(X)\n",
    "np.nan_to_num(X)\n",
    "\n",
    "X_train, X_test, Y_train, Y_test = train_test_split(X,Y, test_size=0.2)\n",
    "\n",
    "df3.fillna(value = -999999)\n",
    "df3['Prev Departure Offset'] = df3['Prev Departure Offset'].astype(float)\n",
    "df3['Difference (Minutes)'] = df3['Difference (Minutes)'].astype(float)\n",
    "\n",
    "model = smf.mixedlm('Q(\"Prev Departure Offset\") ~ Q(\"Difference (Minutes)\")',data = df3,groups = \"Bus Stop ID\").fit()\n",
    "model.summary()\n",
    "#scores = cross_val_score(model, X_test, Y_test, cv=5)\n",
    "#print(scores)\n",
    "#print(\"%0.2f accuracy with a standard deviation of %0.2f\" % (scores.mean(), scores.std()))\n"
   ]
  },
  {
   "cell_type": "code",
   "execution_count": null,
   "metadata": {},
   "outputs": [
    {
     "data": {
      "text/html": [
       "<table class=\"simpletable\">\n",
       "<tr>\n",
       "       <td>Model:</td>       <td>MixedLM</td> <td>Dependent Variable:</td> <td>Q(\"Prev Departure Offset\")</td>\n",
       "</tr>\n",
       "<tr>\n",
       "  <td>No. Observations:</td> <td>202613</td>        <td>Method:</td>                  <td>REML</td>           \n",
       "</tr>\n",
       "<tr>\n",
       "     <td>No. Groups:</td>      <td>12</td>          <td>Scale:</td>                  <td>8.9508</td>          \n",
       "</tr>\n",
       "<tr>\n",
       "  <td>Min. group size:</td>   <td>10500</td>    <td>Log-Likelihood:</td>          <td>-509587.0694</td>       \n",
       "</tr>\n",
       "<tr>\n",
       "  <td>Max. group size:</td>   <td>23107</td>      <td>Converged:</td>                  <td>Yes</td>           \n",
       "</tr>\n",
       "<tr>\n",
       "  <td>Mean group size:</td>  <td>16884.4</td>          <td></td>                        <td></td>             \n",
       "</tr>\n",
       "</table>\n",
       "<table class=\"simpletable\">\n",
       "<tr>\n",
       "              <td></td>              <th>Coef.</th> <th>Std.Err.</th>    <th>z</th>    <th>P>|z|</th> <th>[0.025</th> <th>0.975]</th>\n",
       "</tr>\n",
       "<tr>\n",
       "  <th>Intercept</th>                 <td>0.593</td>   <td>0.397</td>   <td>1.492</td>  <td>0.136</td> <td>-0.186</td>  <td>1.372</td>\n",
       "</tr>\n",
       "<tr>\n",
       "  <th>Q(\"Difference (Minutes)\")</th> <td>0.755</td>   <td>0.001</td>  <td>569.641</td> <td>0.000</td>  <td>0.753</td>  <td>0.758</td>\n",
       "</tr>\n",
       "<tr>\n",
       "  <th>Bus Stop ID Var</th>           <td>1.894</td>   <td>0.277</td>     <td></td>       <td></td>       <td></td>       <td></td>   \n",
       "</tr>\n",
       "</table>"
      ],
      "text/plain": [
       "<class 'statsmodels.iolib.summary2.Summary'>\n",
       "\"\"\"\n",
       "                 Mixed Linear Model Regression Results\n",
       "========================================================================\n",
       "Model:            MixedLM Dependent Variable: Q(\"Prev Departure Offset\")\n",
       "No. Observations: 202613  Method:             REML                      \n",
       "No. Groups:       12      Scale:              8.9508                    \n",
       "Min. group size:  10500   Log-Likelihood:     -509587.0694              \n",
       "Max. group size:  23107   Converged:          Yes                       \n",
       "Mean group size:  16884.4                                               \n",
       "------------------------------------------------------------------------\n",
       "                              Coef. Std.Err.    z    P>|z| [0.025 0.975]\n",
       "------------------------------------------------------------------------\n",
       "Intercept                     0.593    0.397   1.492 0.136 -0.186  1.372\n",
       "Q(\"Difference (Minutes)\")     0.755    0.001 569.641 0.000  0.753  0.758\n",
       "Bus Stop ID Var               1.894    0.277                            \n",
       "========================================================================\n",
       "\n",
       "\"\"\""
      ]
     },
     "execution_count": 24,
     "metadata": {},
     "output_type": "execute_result"
    }
   ],
   "source": [
    "df.fillna(value = -999999)\n",
    "df['Prev Departure Offset'] = df['Prev Departure Offset'].astype(float)\n",
    "df['Difference (Minutes)'] = df['Difference (Minutes)'].astype(float)\n",
    "\n",
    "model = smf.mixedlm('Q(\"Prev Departure Offset\") ~ Q(\"Difference (Minutes)\")',data = df,groups = \"Bus Stop ID\").fit()\n",
    "model.summary()"
   ]
  },
  {
   "cell_type": "code",
   "execution_count": null,
   "metadata": {},
   "outputs": [
    {
     "name": "stderr",
     "output_type": "stream",
     "text": [
      "C:\\Users\\schub\\anaconda3\\envs\\ltc_project\\lib\\site-packages\\seaborn\\distributions.py:2619: FutureWarning: `distplot` is a deprecated function and will be removed in a future version. Please adapt your code to use either `displot` (a figure-level function with similar flexibility) or `kdeplot` (an axes-level function for kernel density plots).\n",
      "  warnings.warn(msg, FutureWarning)\n"
     ]
    },
    {
     "data": {
      "text/plain": [
       "Text(0.5, 0, 'Residuals')"
      ]
     },
     "execution_count": 20,
     "metadata": {},
     "output_type": "execute_result"
    },
    {
     "data": {
      "image/png": "[encoded data removed]",
      "text/plain": [
       "<Figure size 1152x648 with 1 Axes>"
      ]
     },
     "metadata": {
      "needs_background": "light"
     },
     "output_type": "display_data"
    }
   ],
   "source": [
    "fig = plt.figure(figsize = (16, 9))\n",
    "\n",
    "ax = sns.distplot(model.resid, hist = False, kde_kws = {\"shade\" : True, \"lw\": 1}, fit = stats.norm)\n",
    "\n",
    "ax.set_title(\"KDE Plot of Model Residuals (Blue) and Normal Distribution (Black)\")\n",
    "ax.set_xlabel(\"Residuals\")"
   ]
  },
  {
   "cell_type": "code",
   "execution_count": null,
   "metadata": {},
   "outputs": [
    {
     "data": {
      "text/plain": [
       "Text(0, 0.5, 'Difference (Minutes)')"
      ]
     },
     "execution_count": 29,
     "metadata": {},
     "output_type": "execute_result"
    },
    {
     "data": {
      "image/png": "[encoded data removed]",
      "text/plain": [
       "<Figure size 1152x648 with 1 Axes>"
      ]
     },
     "metadata": {
      "needs_background": "light"
     },
     "output_type": "display_data"
    }
   ],
   "source": [
    "boxplot = df.boxplot([\"Difference (Minutes)\"], by = [\"Bus Stop ID\"],\n",
    "                     figsize = (16, 9),\n",
    "                     showmeans = True,\n",
    "                     notch = True)\n",
    "\n",
    "boxplot.set_xlabel(\"Bus Stop ID\")\n",
    "boxplot.set_ylabel(\"Difference (Minutes)\")"
   ]
  },
  {
   "cell_type": "code",
   "execution_count": null,
   "metadata": {},
   "outputs": [
    {
     "name": "stderr",
     "output_type": "stream",
     "text": [
      "C:\\Users\\schub\\anaconda3\\envs\\ltc_project\\lib\\site-packages\\statsmodels\\graphics\\gofplots.py:993: UserWarning: marker is redundantly defined by the 'marker' keyword argument and the fmt string \"bo\" (-> marker='o'). The keyword argument will take precedence.\n",
      "  ax.plot(x, y, fmt, **plot_style)\n"
     ]
    },
    {
     "data": {
      "text/plain": [
       "Text(0.5, 1.0, 'Difference (Minutes)')"
      ]
     },
     "execution_count": 37,
     "metadata": {},
     "output_type": "execute_result"
    },
    {
     "data": {
      "image/png": "[encoded data removed]",
      "text/plain": [
       "<Figure size 1152x648 with 1 Axes>"
      ]
     },
     "metadata": {
      "needs_background": "light"
     },
     "output_type": "display_data"
    }
   ],
   "source": [
    "fig = plt.figure(figsize = (16, 9))\n",
    "ax = fig.add_subplot(111)\n",
    "\n",
    "sm.qqplot(model.resid, dist = stats.norm, line = 's', ax = ax)\n",
    "\n",
    "ax.set_title(\"Difference (Minutes)\")"
   ]
  }
 ],
 "metadata": {
  "interpreter": {
   "hash": "ce28d910b1874a368c678113454eea6bd5d6a1501467600150b9d55158fe8c9c"
  },
  "kernelspec": {
   "display_name": "Python 3.9.7 64-bit ('ltc_project': conda)",
   "name": "python3"
  },
  "language_info": {
   "codemirror_mode": {
    "name": "ipython",
    "version": 3
   },
   "file_extension": ".py",
   "mimetype": "text/x-python",
   "name": "python",
   "nbconvert_exporter": "python",
   "pygments_lexer": "ipython3",
   "version": "3.9.7"
  },
  "orig_nbformat": 4
 },
 "nbformat": 4,
 "nbformat_minor": 2
}
