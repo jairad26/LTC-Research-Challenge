{
 "cells": [
  {
   "cell_type": "code",
   "execution_count": 11,
   "source": [
    "%pip install statsmodels\r\n",
    "%pip install patsy\r\n"
   ],
   "outputs": [
    {
     "output_type": "stream",
     "name": "stdout",
     "text": [
      "Requirement already satisfied: statsmodels in c:\\users\\jai\\appdata\\local\\programs\\python\\python37\\lib\\site-packages (0.12.2)\n",
      "Requirement already satisfied: pandas>=0.21 in c:\\users\\jai\\appdata\\local\\programs\\python\\python37\\lib\\site-packages (from statsmodels) (0.25.1)\n",
      "Requirement already satisfied: numpy>=1.15 in c:\\users\\jai\\appdata\\local\\programs\\python\\python37\\lib\\site-packages (from statsmodels) (1.17.3)\n",
      "Requirement already satisfied: scipy>=1.1 in c:\\users\\jai\\appdata\\local\\programs\\python\\python37\\lib\\site-packages (from statsmodels) (1.4.1)\n",
      "Requirement already satisfied: patsy>=0.5 in c:\\users\\jai\\appdata\\local\\programs\\python\\python37\\lib\\site-packages (from statsmodels) (0.5.2)\n",
      "Requirement already satisfied: pytz>=2017.2 in c:\\users\\jai\\appdata\\local\\programs\\python\\python37\\lib\\site-packages (from pandas>=0.21->statsmodels) (2019.2)\n",
      "Requirement already satisfied: python-dateutil>=2.6.1 in c:\\users\\jai\\appdata\\local\\programs\\python\\python37\\lib\\site-packages (from pandas>=0.21->statsmodels) (2.8.0)\n",
      "Requirement already satisfied: six in c:\\users\\jai\\appdata\\local\\programs\\python\\python37\\lib\\site-packages (from patsy>=0.5->statsmodels) (1.12.0)\n",
      "Note: you may need to restart the kernel to use updated packages.\n"
     ]
    },
    {
     "output_type": "stream",
     "name": "stderr",
     "text": [
      "WARNING: You are using pip version 20.1.1; however, version 21.2.4 is available.\n",
      "You should consider upgrading via the 'C:\\Users\\Jai\\AppData\\Local\\Programs\\Python\\Python37\\python.exe -m pip install --upgrade pip' command.\n"
     ]
    },
    {
     "output_type": "stream",
     "name": "stdout",
     "text": [
      "Requirement already satisfied: patsy in c:\\users\\jai\\appdata\\local\\programs\\python\\python37\\lib\\site-packages (0.5.2)\n",
      "Note: you may need to restart the kernel to use updated packages.Requirement already satisfied: numpy>=1.4 in c:\\users\\jai\\appdata\\local\\programs\\python\\python37\\lib\\site-packages (from patsy) (1.17.3)\n"
     ]
    },
    {
     "output_type": "stream",
     "name": "stderr",
     "text": [
      "WARNING: You are using pip version 20.1.1; however, version 21.2.4 is available.\n",
      "You should consider upgrading via the 'C:\\Users\\Jai\\AppData\\Local\\Programs\\Python\\Python37\\python.exe -m pip install --upgrade pip' command.\n"
     ]
    },
    {
     "output_type": "stream",
     "name": "stdout",
     "text": [
      "\n",
      "Requirement already satisfied: six in c:\\users\\jai\\appdata\\local\\programs\\python\\python37\\lib\\site-packages (from patsy) (1.12.0)\n"
     ]
    }
   ],
   "metadata": {}
  },
  {
   "cell_type": "code",
   "execution_count": 12,
   "source": [
    "import pandas as pd \r\n",
    "import matplotlib.pyplot as plt\r\n",
    "import numpy as np\r\n",
    "import datetime\r\n",
    "from scipy.stats import chi2_contingency\r\n",
    "import pandas as pd\r\n",
    "import numpy as np\r\n",
    "from sklearn import preprocessing, neighbors, svm\r\n",
    "from sklearn.model_selection import train_test_split\r\n",
    "from sklearn.preprocessing import OneHotEncoder\r\n",
    "from sklearn.model_selection import cross_val_score\r\n",
    "from sklearn.linear_model import SGDRegressor\r\n",
    "from sklearn.metrics import mean_squared_error,mean_absolute_error\r\n",
    "import pickle\r\n",
    "import statsmodels.formula.api as smf\r\n",
    "import scipy.stats as stats\r\n",
    "import seaborn as sns\r\n",
    "\r\n",
    "# df = pd.read_csv('data/2020 Line 280 AVL report.csv')\r\n",
    "df = pd.read_csv('data/2019 Line 280 AVL allscripts.csv')\r\n",
    "df['Actual Depart Hour'] = df['Actual Depart'].str.split(':',expand=True)[0]\r\n",
    "df['Actual Depart Hour'] = df['Actual Depart Hour'].astype(int)\r\n",
    "df['Transit Date Month'] = df['Transit Date'].str.split('/',expand=True)[0]\r\n",
    "df['Transit Date Month'] = df['Transit Date Month'].astype(int)"
   ],
   "outputs": [],
   "metadata": {}
  },
  {
   "cell_type": "code",
   "execution_count": 13,
   "source": [
    "# df1 = df.copy()\r\n",
    "# df1 = df.loc[(df['Bus Stop ID'] == 775) | (df['Bus Stop ID'] == 782) | (df['Bus Stop ID'] == 733)]\r\n",
    "df1 = df.loc[(df['Bus Stop ID'] != 177)]\r\n",
    "df1 = df1.loc[(df1['Bus Stop ID'] != 738)]\r\n",
    "df1 = df1.loc[(df1['Bus Stop ID'] != 2199)]\r\n",
    "df1 = df1.loc[(df1['Bus Stop ID'] != 2384)]\r\n",
    "\r\n",
    "df1 = pd.get_dummies(df1, columns=['Actual Depart Hour', 'Transit Date Month', 'Day of Week', \\\r\n",
    "    'Miles from Prior Time Point', 'Bus Stop ID'],prefix=['Enc_Hour_', 'Enc_Month_', 'Enc_Day_',\\\r\n",
    "        'Enc_Miles_', 'Enc_Stop_'])\r\n",
    "# df1 = pd.get_dummies(df1, columns=['Actual Depart Hour', 'Transit Date Month', 'Day of Week', \\\r\n",
    "#     'Miles from Prior Time Point'],prefix=['Enc_Hour_', 'Enc_Month_', 'Enc_Day_',\\\r\n",
    "#         'Enc_Miles_'])\r\n",
    "# df1 = pd.get_dummies(df1, columns=['Transit Date Month'],prefix=['Enc_Month_'])\r\n",
    "\r\n",
    "# df1['Transit Date Month'] = df1['Transit Date'].str.split('/',expand=True)[0]\r\n",
    "df1.fillna(value = -9999)\r\n",
    "enc = OneHotEncoder(handle_unknown='ignore')\r\n",
    "\r\n",
    "df1['Difference (Minutes)'] = df1['Difference (Minutes)'].astype(int)\r\n",
    "df1['Prev Departure Offset'] = df1['Prev Departure Offset'].astype(int)\r\n",
    "# df1['Transit Date Month'] = df1['Transit Date Month'].astype(int)\r\n",
    "\r\n",
    "# df.replace('?', -99999, inplace=True) #sees -99999 as outlier, ignores it\r\n",
    "df1.drop(['Transit Date', 'Vehicle #', 'Block #', 'Route #', 'Trip #', 'Direction',\\\r\n",
    "    'Pattern','Bus Stop Name', 'Stop Sequence','Latitude','Longitude','Scheduled Depart','Actual Depart',\\\r\n",
    "        'Initial Performance Result','Reported Performance Results','Actual Arrival','Waivers',\\\r\n",
    "            'Dwell Time', 'Actual Run Time', 'Scheduled Operating Speed','Actual Operating Speed',\\\r\n",
    "                'Run Time Variance','Day Type','Time Period', 'Scheduled Run Time',\\\r\n",
    "                        'Scheduled Depart DateTime', 'Actual Depart DateTime', \\\r\n",
    "                            'Same Stop Prev Trip Departure Offset'\\\r\n",
    "                                ], 1, inplace=True)\r\n",
    "# print(df1.head)\r\n",
    "# pd.to_numeric(df1['Actual Operating Speed'], errors='coerce')\r\n",
    "X = np.array(df1.drop(['Difference (Minutes)'],1)) #using everything except class to train\r\n",
    "Y = np.array(df1['Difference (Minutes)']) #class is the final result obviously\r\n",
    "np.nan_to_num(X)\r\n",
    "np.nan_to_num(Y)\r\n",
    "pd.isnull(X)\r\n",
    "np.nan_to_num(X)\r\n",
    "\r\n",
    "X_train, X_test, Y_train, Y_test = train_test_split(X,Y, test_size=0.2)\r\n",
    "\r\n",
    "# lr_sgd = SGDRegressor(penalty='elasticnet')\r\n",
    "lr_sgd = SGDRegressor(loss='huber', penalty='elasticnet')\r\n",
    "%time lr_sgd.fit(X_train, Y_train)\r\n",
    "\r\n",
    "filename = 'models/2019_lr_sgd_model_9_15.sav'\r\n",
    "pickle.dump(lr_sgd, open(filename, 'wb'))\r\n",
    "\r\n",
    "plt.scatter(Y_test, lr_sgd.predict(X_test))\r\n",
    "plt.grid()\r\n",
    "plt.xlabel('Actual y')\r\n",
    "plt.ylabel('Predicted y')\r\n",
    "plt.title('scatter plot between actual y and predicted y')\r\n",
    "plt.show()\r\n",
    "print('Mean Squared Error :',mean_squared_error(Y_test, lr_sgd.predict(X_test)))\r\n",
    "print('Mean Absolute Error :',mean_absolute_error(Y_test, lr_sgd.predict(X_test)))\r\n",
    "\r\n",
    "scores = cross_val_score(lr_sgd, X_test, Y_test, cv=5)\r\n",
    "\r\n",
    "print(scores)\r\n",
    "print(\"%0.2f accuracy with a standard deviation of %0.2f\" % (scores.mean(), scores.std()))\r\n",
    "\r\n",
    "# fig, ax = plt.subplots(nrows=1, ncols=1, figsize=(10,4), sharey=True)\r\n",
    "# ax.plot(X_train, clf.fit(X_train, Y_train).predict(X_train), lw=2)\r\n",
    "# ax.scatter(X_train[clf.support_], Y_train[clf.support_], facecolor=\"none\",s=50)\r\n",
    "# # ax.scatter(X_test[np.setdiff1d(np.arange(len(X_test)),clf.support_)],\r\n",
    "# #            Y_test[np.setdiff1d(np.arange(len(X_test)), clf.support_)],\r\n",
    "# #            facecolor=\"none\", edgecolor=\"k\", s=50)\r\n",
    "\r\n",
    "\r\n",
    "# fig.text(0.5, 0.04, 'data', ha='center', va='center')\r\n",
    "# fig.text(0.06, 0.5, 'target', ha='center', va='center', rotation='vertical')\r\n",
    "# fig.suptitle(\"Support Vector Regression\", fontsize=14)\r\n",
    "# plt.show()"
   ],
   "outputs": [
    {
     "output_type": "stream",
     "name": "stdout",
     "text": [
      "Wall time: 932 ms\n"
     ]
    },
    {
     "output_type": "display_data",
     "data": {
      "image/png": "[encoded data removed]",
      "text/plain": [
       "<Figure size 432x288 with 1 Axes>"
      ]
     },
     "metadata": {}
    },
    {
     "output_type": "stream",
     "name": "stdout",
     "text": [
      "Mean Squared Error : 3.8658397741650354\n",
      "Mean Absolute Error : 0.9617656059058566\n",
      "[0.89292675 0.71685384 0.88576805 0.90273721 0.85925327]\n",
      "0.85 accuracy with a standard deviation of 0.07\n"
     ]
    }
   ],
   "metadata": {}
  },
  {
   "cell_type": "code",
   "execution_count": 14,
   "source": [
    "\r\n",
    "# df1 = df.copy()\r\n",
    "# df1 = df.loc[(df['Bus Stop ID'] == 775) | (df['Bus Stop ID'] == 782) | (df['Bus Stop ID'] == 733)]\r\n",
    "\r\n",
    "\r\n",
    "\r\n",
    "\r\n",
    "\r\n",
    "#################################################################################\r\n",
    "# df1 = df.loc[(df['Bus Stop ID'] != 177)]\r\n",
    "# df1 = df1.loc[(df1['Bus Stop ID'] != 738)]\r\n",
    "# df1 = df1.loc[(df1['Bus Stop ID'] != 2199)]\r\n",
    "# df1 = df1.loc[(df1['Bus Stop ID'] != 2384)]\r\n",
    "\r\n",
    "# df1 = pd.get_dummies(df1, columns=['Actual Depart Hour', 'Transit Date Month', 'Day of Week', \\\r\n",
    "#     'Miles from Prior Time Point', 'Bus Stop ID'],prefix=['Enc_Hour_', 'Enc_Month_', 'Enc_Day_',\\\r\n",
    "#         'Enc_Miles_', 'Enc_Stop_'])\r\n",
    "# # df1 = pd.get_dummies(df1, columns=['Actual Depart Hour', 'Transit Date Month', 'Day of Week', \\\r\n",
    "# #     'Miles from Prior Time Point'],prefix=['Enc_Hour_', 'Enc_Month_', 'Enc_Day_',\\\r\n",
    "# #         'Enc_Miles_'])\r\n",
    "# # df1 = pd.get_dummies(df1, columns=['Transit Date Month'],prefix=['Enc_Month_'])\r\n",
    "\r\n",
    "# # df1['Transit Date Month'] = df1['Transit Date'].str.split('/',expand=True)[0]\r\n",
    "# df1.fillna(value = -9999)\r\n",
    "# enc = OneHotEncoder(handle_unknown='ignore')\r\n",
    "\r\n",
    "# df1['Difference (Minutes)'] = df1['Difference (Minutes)'].astype(int)\r\n",
    "# df1['Prev Departure Offset'] = df1['Prev Departure Offset'].astype(int)\r\n",
    "# # df1['Transit Date Month'] = df1['Transit Date Month'].astype(int)\r\n",
    "\r\n",
    "# # df.replace('?', -99999, inplace=True) #sees -99999 as outlier, ignores it\r\n",
    "# df1.drop(['Transit Date', 'Vehicle #', 'Block #', 'Route #', 'Trip #', 'Direction',\\\r\n",
    "#     'Pattern','Bus Stop Name', 'Stop Sequence','Latitude','Longitude','Scheduled Depart','Actual Depart',\\\r\n",
    "#         'Initial Performance Result','Reported Performance Results','Actual Arrival','Waivers',\\\r\n",
    "#             'Dwell Time', 'Actual Run Time', 'Scheduled Operating Speed','Actual Operating Speed',\\\r\n",
    "#                 'Run Time Variance','Day Type','Time Period', 'Scheduled Run Time',\\\r\n",
    "#                         'Scheduled Depart DateTime', 'Actual Depart DateTime', \\\r\n",
    "#                             'Same Stop Prev Trip Departure Offset'\\\r\n",
    "#                                 ], 1, inplace=True)\r\n",
    "# print(df1.head)\r\n",
    "# # pd.to_numeric(df1['Actual Operating Speed'], errors='coerce')\r\n",
    "# X = np.array(df1.drop(['Difference (Minutes)'],1)) #using everything except class to train\r\n",
    "# Y = np.array(df1['Difference (Minutes)']) #class is the final result obviously\r\n",
    "# np.nan_to_num(X)\r\n",
    "# np.nan_to_num(Y)\r\n",
    "# pd.isnull(X)\r\n",
    "# np.nan_to_num(X)\r\n",
    "\r\n",
    "# X_train, X_test, Y_train, Y_test = train_test_split(X,Y, test_size=0.2)\r\n",
    "\r\n",
    "# clf = svm.SVR()\r\n",
    "# %time clf.fit(X_train, Y_train)\r\n",
    "\r\n",
    "# scores = cross_val_score(clf, X_test, Y_test, cv=5)\r\n",
    "\r\n",
    "# print(scores)\r\n",
    "# print(\"%0.2f accuracy with a standard deviation of %0.2f\" % (scores.mean(), scores.std()))\r\n",
    "#################################################################################\r\n",
    "\r\n",
    "\r\n",
    "\r\n",
    "\r\n",
    "\r\n",
    "# fig, ax = plt.subplots(nrows=1, ncols=1, figsize=(10,4), sharey=True)\r\n",
    "# ax.plot(X_train, clf.fit(X_train, Y_train).predict(X_train), lw=2)\r\n",
    "# ax.scatter(X_train[clf.support_], Y_train[clf.support_], facecolor=\"none\",s=50)\r\n",
    "# # ax.scatter(X_test[np.setdiff1d(np.arange(len(X_test)),clf.support_)],\r\n",
    "# #            Y_test[np.setdiff1d(np.arange(len(X_test)), clf.support_)],\r\n",
    "# #            facecolor=\"none\", edgecolor=\"k\", s=50)\r\n",
    "\r\n",
    "\r\n",
    "# fig.text(0.5, 0.04, 'data', ha='center', va='center')\r\n",
    "# fig.text(0.06, 0.5, 'target', ha='center', va='center', rotation='vertical')\r\n",
    "# fig.suptitle(\"Support Vector Regression\", fontsize=14)\r\n",
    "# plt.show()"
   ],
   "outputs": [],
   "metadata": {}
  },
  {
   "cell_type": "code",
   "execution_count": 15,
   "source": [
    "df1 = df.copy()\r\n",
    "\r\n",
    "\r\n",
    "df1 = pd.get_dummies(df1, columns=['Actual Depart Hour', 'Transit Date Month', 'Day of Week']\\\r\n",
    "    ,prefix=['Enc_Hour_', 'Enc_Month_', 'Enc_Day_'])\r\n",
    "\r\n",
    "df1.fillna(value = -9999)\r\n",
    "enc = OneHotEncoder(handle_unknown='ignore')\r\n",
    "\r\n",
    "df1['Scheduled Run Time'] = df1['Scheduled Run Time'].astype(int)\r\n",
    "df1['Actual Run Time'] = df1['Actual Run Time'].astype(int)\r\n",
    "\r\n",
    "df1.drop(['Transit Date', 'Vehicle #', 'Block #', 'Route #', 'Trip #', 'Direction',\\\r\n",
    "    'Pattern','Bus Stop Name', 'Stop Sequence','Latitude','Longitude','Scheduled Depart','Actual Depart',\\\r\n",
    "   'Miles from Prior Time Point', 'Bus Stop ID',\r\n",
    "        'Initial Performance Result','Reported Performance Results','Actual Arrival','Waivers',\\\r\n",
    "            'Dwell Time', 'Scheduled Operating Speed','Actual Operating Speed',\\\r\n",
    "                'Run Time Variance','Day Type','Time Period',\\\r\n",
    "                        'Scheduled Depart DateTime', 'Actual Depart DateTime', \\\r\n",
    "                            'Same Stop Prev Trip Departure Offset', \\\r\n",
    "                                'Difference (Minutes)', 'Prev Departure Offset'], 1, inplace=True)\r\n",
    "print(df1.head)\r\n",
    "X = np.array(df1.drop(['Actual Run Time'],1)) #using everything except class to train\r\n",
    "Y = np.array(df1['Actual Run Time']) #class is the final result obviously\r\n",
    "np.nan_to_num(X)\r\n",
    "np.nan_to_num(Y)\r\n",
    "pd.isnull(X)\r\n",
    "np.nan_to_num(X)\r\n",
    "\r\n",
    "X_train, X_test, Y_train, Y_test = train_test_split(X,Y, test_size=0.2)\r\n",
    "\r\n",
    "lr_sgd = SGDRegressor(loss='huber')\r\n",
    "%time lr_sgd.fit(X_train, Y_train)\r\n",
    "\r\n",
    "filename = 'models/2019_lr_sgd_model_9_15.sav'\r\n",
    "pickle.dump(lr_sgd, open(filename, 'wb'))\r\n",
    "\r\n",
    "plt.scatter(Y_test, lr_sgd.predict(X_test))\r\n",
    "plt.grid()\r\n",
    "plt.xlabel('Actual y')\r\n",
    "plt.ylabel('Predicted y')\r\n",
    "plt.title('scatter plot between actual y and predicted y')\r\n",
    "plt.show()\r\n",
    "print('Mean Squared Error :',mean_squared_error(Y_test, lr_sgd.predict(X_test)))\r\n",
    "print('Mean Absolute Error :',mean_absolute_error(Y_test, lr_sgd.predict(X_test)))\r\n",
    "\r\n",
    "scores = cross_val_score(lr_sgd, X_test, Y_test, cv=5)\r\n",
    "\r\n",
    "print(scores)\r\n",
    "print(\"%0.2f accuracy with a standard deviation of %0.2f\" % (scores.mean(), scores.std()))\r\n",
    "\r\n",
    "# fig, ax = plt.subplots(nrows=1, ncols=1, figsize=(10,4), sharey=True)\r\n",
    "# ax.plot(X_train, clf.fit(X_train, Y_train).predict(X_train), lw=2)\r\n",
    "# ax.scatter(X_train[clf.support_], Y_train[clf.support_], facecolor=\"none\",s=50)\r\n",
    "# # ax.scatter(X_test[np.setdiff1d(np.arange(len(X_test)),clf.support_)],\r\n",
    "# #            Y_test[np.setdiff1d(np.arange(len(X_test)), clf.support_)],\r\n",
    "# #            facecolor=\"none\", edgecolor=\"k\", s=50)\r\n",
    "\r\n",
    "\r\n",
    "# fig.text(0.5, 0.04, 'data', ha='center', va='center')\r\n",
    "# fig.text(0.06, 0.5, 'target', ha='center', va='center', rotation='vertical')\r\n",
    "# fig.suptitle(\"Support Vector Regression\", fontsize=14)\r\n",
    "# plt.show()"
   ],
   "outputs": [
    {
     "output_type": "stream",
     "name": "stdout",
     "text": [
      "<bound method NDFrame.head of         Scheduled Run Time  Actual Run Time  Enc_Hour__0  Enc_Hour__1  \\\n",
      "0                        0                0            0            0   \n",
      "1                        8                6            0            0   \n",
      "2                        6                6            0            0   \n",
      "3                        9               10            0            0   \n",
      "4                        0                6            0            0   \n",
      "...                    ...              ...          ...          ...   \n",
      "202608                   0                0            0            0   \n",
      "202609                   9                9            0            0   \n",
      "202610                   0               10            0            0   \n",
      "202611                   0                3            0            0   \n",
      "202612                   0                6            0            0   \n",
      "\n",
      "        Enc_Hour__5  Enc_Hour__6  Enc_Hour__7  Enc_Hour__8  Enc_Hour__9  \\\n",
      "0                 0            0            1            0            0   \n",
      "1                 0            0            1            0            0   \n",
      "2                 0            0            1            0            0   \n",
      "3                 0            0            1            0            0   \n",
      "4                 0            0            1            0            0   \n",
      "...             ...          ...          ...          ...          ...   \n",
      "202608            0            0            0            0            0   \n",
      "202609            0            0            0            0            0   \n",
      "202610            0            0            0            0            0   \n",
      "202611            0            0            0            0            0   \n",
      "202612            0            0            0            0            0   \n",
      "\n",
      "        Enc_Hour__10  ...  Enc_Month__10  Enc_Month__11  Enc_Month__12  \\\n",
      "0                  0  ...              0              0              0   \n",
      "1                  0  ...              0              0              0   \n",
      "2                  0  ...              0              0              0   \n",
      "3                  0  ...              0              0              0   \n",
      "4                  0  ...              0              0              0   \n",
      "...              ...  ...            ...            ...            ...   \n",
      "202608             0  ...              0              0              1   \n",
      "202609             0  ...              0              0              1   \n",
      "202610             0  ...              0              0              1   \n",
      "202611             0  ...              0              0              1   \n",
      "202612             0  ...              0              0              1   \n",
      "\n",
      "        Enc_Day__Friday  Enc_Day__Monday  Enc_Day__Saturday  Enc_Day__Sunday  \\\n",
      "0                     0                0                  0                0   \n",
      "1                     0                0                  0                0   \n",
      "2                     0                0                  0                0   \n",
      "3                     0                0                  0                0   \n",
      "4                     0                0                  0                0   \n",
      "...                 ...              ...                ...              ...   \n",
      "202608                0                0                  0                0   \n",
      "202609                0                0                  0                0   \n",
      "202610                0                0                  0                0   \n",
      "202611                0                0                  0                0   \n",
      "202612                0                0                  0                0   \n",
      "\n",
      "        Enc_Day__Thursday  Enc_Day__Tuesday  Enc_Day__Wednesday  \n",
      "0                       0                 0                   1  \n",
      "1                       0                 0                   1  \n",
      "2                       0                 0                   1  \n",
      "3                       0                 0                   1  \n",
      "4                       0                 0                   1  \n",
      "...                   ...               ...                 ...  \n",
      "202608                  0                 1                   0  \n",
      "202609                  0                 1                   0  \n",
      "202610                  0                 1                   0  \n",
      "202611                  0                 1                   0  \n",
      "202612                  0                 1                   0  \n",
      "\n",
      "[202613 rows x 42 columns]>\n",
      "Wall time: 836 ms\n"
     ]
    },
    {
     "output_type": "display_data",
     "data": {
      "image/png": "[encoded data removed]",
      "text/plain": [
       "<Figure size 432x288 with 1 Axes>"
      ]
     },
     "metadata": {}
    },
    {
     "output_type": "stream",
     "name": "stdout",
     "text": [
      "Mean Squared Error : 29.944928060779922\n",
      "Mean Absolute Error : 2.769066316612848\n",
      "[0.89471307 0.97475588 0.97972703 0.9578216  0.93389398]\n",
      "0.95 accuracy with a standard deviation of 0.03\n"
     ]
    }
   ],
   "metadata": {}
  },
  {
   "cell_type": "code",
   "execution_count": 16,
   "source": [
    "stopactual = df\r\n",
    "stopactual['Actual Run Time'] = stopactual['Actual Run Time'].astype(int)\r\n",
    "stopactual['Scheduled Run Time'] = stopactual['Scheduled Run Time'].astype(int)\r\n",
    "\r\n",
    "f=plt.figure(figsize=(10,7))\r\n",
    "\r\n",
    "ax1=f.add_subplot(111)\r\n",
    "ax1.set_xlim(left = -25,right=100)\r\n",
    "ax1.set_ylim(bottom=-25,top=100)\r\n",
    "ax1.set(Title=\"2019 Bus Run Time Correlation with Scheduled Run Time\")\r\n",
    "# plt.ylim(0,15)\r\n",
    "ax1.scatter(stopactual['Actual Run Time'], stopactual['Scheduled Run Time'])\r\n",
    "plt.setp(ax1.get_xticklabels(), visible=False)\r\n",
    "plt.legend()\r\n",
    "plt.grid()\r\n",
    "\r\n",
    "ax1.set(xlabel=\"Actual Run Time\")\r\n",
    "ax1.set(ylabel=\"Scheduled Run Time\")\r\n",
    "\r\n",
    "locs, labels = plt.xticks() \r\n",
    "\r\n",
    "\r\n",
    "\r\n",
    "plt.show()\r\n",
    "\r\n",
    "df['Actual Run Time'].corr(df['Scheduled Run Time'])"
   ],
   "outputs": [
    {
     "output_type": "stream",
     "name": "stderr",
     "text": [
      "No handles with labels found to put in legend.\n"
     ]
    },
    {
     "output_type": "display_data",
     "data": {
      "image/png": "[encoded data removed]",
      "text/plain": [
       "<Figure size 720x504 with 1 Axes>"
      ]
     },
     "metadata": {}
    },
    {
     "output_type": "execute_result",
     "data": {
      "text/plain": [
       "0.9794987697434454"
      ]
     },
     "metadata": {},
     "execution_count": 16
    }
   ],
   "metadata": {}
  },
  {
   "cell_type": "code",
   "execution_count": 17,
   "source": [
    "print(df.loc[df['Run Time Variance']==0].shape[0]/df.shape[0])"
   ],
   "outputs": [
    {
     "output_type": "stream",
     "name": "stdout",
     "text": [
      "0.4404011588595006\n"
     ]
    }
   ],
   "metadata": {}
  },
  {
   "cell_type": "code",
   "execution_count": 18,
   "source": [
    "df1 = df.copy()\r\n",
    "\r\n",
    "\r\n",
    "df1 = pd.get_dummies(df1, columns=['Actual Depart Hour', 'Transit Date Month', 'Day of Week']\\\r\n",
    "    ,prefix=['Enc_Hour_', 'Enc_Month_', 'Enc_Day_'])\r\n",
    "\r\n",
    "df1.fillna(value = -9999)\r\n",
    "enc = OneHotEncoder(handle_unknown='ignore')\r\n",
    "\r\n",
    "df1['Scheduled Run Time'] = df1['Scheduled Run Time'].astype(int)\r\n",
    "df1['Actual Run Time'] = df1['Actual Run Time'].astype(int)\r\n",
    "\r\n",
    "df1.drop(['Transit Date', 'Vehicle #', 'Block #', 'Route #', 'Trip #', 'Direction',\\\r\n",
    "    'Pattern','Bus Stop Name', 'Stop Sequence','Latitude','Longitude','Scheduled Depart','Actual Depart',\\\r\n",
    "   'Miles from Prior Time Point', 'Bus Stop ID',\r\n",
    "        'Initial Performance Result','Reported Performance Results','Actual Arrival','Waivers',\\\r\n",
    "            'Dwell Time', 'Scheduled Operating Speed','Actual Operating Speed',\\\r\n",
    "                'Run Time Variance','Day Type','Time Period',\\\r\n",
    "                        'Scheduled Depart DateTime', 'Actual Depart DateTime', \\\r\n",
    "                            'Same Stop Prev Trip Departure Offset', \\\r\n",
    "                                'Difference (Minutes)', 'Prev Departure Offset'], 1, inplace=True)\r\n",
    "print(df1.head)\r\n",
    "X = np.array(df1.drop(['Actual Run Time'],1)) #using everything except class to train\r\n",
    "Y = np.array(df1['Actual Run Time']) #class is the final result obviously\r\n",
    "np.nan_to_num(X)\r\n",
    "np.nan_to_num(Y)\r\n",
    "pd.isnull(X)\r\n",
    "np.nan_to_num(X)\r\n",
    "\r\n",
    "X_train, X_test, Y_train, Y_test = train_test_split(X,Y, test_size=0.2)\r\n",
    "\r\n",
    "lr_sgd = SGDRegressor(loss='huber')\r\n",
    "%time lr_sgd.fit(X_train, Y_train)\r\n",
    "\r\n",
    "\r\n",
    "\r\n",
    "plt.scatter(Y_test, lr_sgd.predict(X_test))\r\n",
    "plt.grid()\r\n",
    "plt.xlabel('Actual y')\r\n",
    "plt.ylabel('Predicted y')\r\n",
    "plt.title('scatter plot between actual y and predicted y')\r\n",
    "plt.show()\r\n",
    "print('Mean Squared Error :',mean_squared_error(Y_test, lr_sgd.predict(X_test)))\r\n",
    "print('Mean Absolute Error :',mean_absolute_error(Y_test, lr_sgd.predict(X_test)))\r\n",
    "\r\n",
    "scores = cross_val_score(lr_sgd, X_test, Y_test, cv=5)\r\n",
    "print(scores)\r\n",
    "print(\"%0.2f accuracy with a standard deviation of %0.2f\" % (scores.mean(), scores.std()))"
   ],
   "outputs": [
    {
     "output_type": "stream",
     "name": "stdout",
     "text": [
      "<bound method NDFrame.head of         Scheduled Run Time  Actual Run Time  Enc_Hour__0  Enc_Hour__1  \\\n",
      "0                        0                0            0            0   \n",
      "1                        8                6            0            0   \n",
      "2                        6                6            0            0   \n",
      "3                        9               10            0            0   \n",
      "4                        0                6            0            0   \n",
      "...                    ...              ...          ...          ...   \n",
      "202608                   0                0            0            0   \n",
      "202609                   9                9            0            0   \n",
      "202610                   0               10            0            0   \n",
      "202611                   0                3            0            0   \n",
      "202612                   0                6            0            0   \n",
      "\n",
      "        Enc_Hour__5  Enc_Hour__6  Enc_Hour__7  Enc_Hour__8  Enc_Hour__9  \\\n",
      "0                 0            0            1            0            0   \n",
      "1                 0            0            1            0            0   \n",
      "2                 0            0            1            0            0   \n",
      "3                 0            0            1            0            0   \n",
      "4                 0            0            1            0            0   \n",
      "...             ...          ...          ...          ...          ...   \n",
      "202608            0            0            0            0            0   \n",
      "202609            0            0            0            0            0   \n",
      "202610            0            0            0            0            0   \n",
      "202611            0            0            0            0            0   \n",
      "202612            0            0            0            0            0   \n",
      "\n",
      "        Enc_Hour__10  ...  Enc_Month__10  Enc_Month__11  Enc_Month__12  \\\n",
      "0                  0  ...              0              0              0   \n",
      "1                  0  ...              0              0              0   \n",
      "2                  0  ...              0              0              0   \n",
      "3                  0  ...              0              0              0   \n",
      "4                  0  ...              0              0              0   \n",
      "...              ...  ...            ...            ...            ...   \n",
      "202608             0  ...              0              0              1   \n",
      "202609             0  ...              0              0              1   \n",
      "202610             0  ...              0              0              1   \n",
      "202611             0  ...              0              0              1   \n",
      "202612             0  ...              0              0              1   \n",
      "\n",
      "        Enc_Day__Friday  Enc_Day__Monday  Enc_Day__Saturday  Enc_Day__Sunday  \\\n",
      "0                     0                0                  0                0   \n",
      "1                     0                0                  0                0   \n",
      "2                     0                0                  0                0   \n",
      "3                     0                0                  0                0   \n",
      "4                     0                0                  0                0   \n",
      "...                 ...              ...                ...              ...   \n",
      "202608                0                0                  0                0   \n",
      "202609                0                0                  0                0   \n",
      "202610                0                0                  0                0   \n",
      "202611                0                0                  0                0   \n",
      "202612                0                0                  0                0   \n",
      "\n",
      "        Enc_Day__Thursday  Enc_Day__Tuesday  Enc_Day__Wednesday  \n",
      "0                       0                 0                   1  \n",
      "1                       0                 0                   1  \n",
      "2                       0                 0                   1  \n",
      "3                       0                 0                   1  \n",
      "4                       0                 0                   1  \n",
      "...                   ...               ...                 ...  \n",
      "202608                  0                 1                   0  \n",
      "202609                  0                 1                   0  \n",
      "202610                  0                 1                   0  \n",
      "202611                  0                 1                   0  \n",
      "202612                  0                 1                   0  \n",
      "\n",
      "[202613 rows x 42 columns]>\n",
      "Wall time: 489 ms\n"
     ]
    },
    {
     "output_type": "display_data",
     "data": {
      "image/png": "[encoded data removed]",
      "text/plain": [
       "<Figure size 432x288 with 1 Axes>"
      ]
     },
     "metadata": {}
    },
    {
     "output_type": "stream",
     "name": "stdout",
     "text": [
      "Mean Squared Error : 31.16176245422849\n",
      "Mean Absolute Error : 2.8115050397846\n",
      "[0.88358207 0.88800703 0.96899311 0.96989036 0.93195331]\n",
      "0.93 accuracy with a standard deviation of 0.04\n"
     ]
    }
   ],
   "metadata": {}
  },
  {
   "cell_type": "code",
   "execution_count": 26,
   "source": [
    "df.fillna(value = -999999)\r\n",
    "df['Actual Run Time'] = df['Actual Run Time'].astype(float)\r\n",
    "df['Scheduled Run Time'] = df['Scheduled Run Time'].astype(float)\r\n",
    "\r\n",
    "model = smf.mixedlm('Q(\"Actual Run Time\") ~ Q(\"Scheduled Run Time\")',data = df,groups = \"Bus Stop ID\").fit()\r\n",
    "model.summary()"
   ],
   "outputs": [
    {
     "output_type": "execute_result",
     "data": {
      "text/html": [
       "<table class=\"simpletable\">\n",
       "<tr>\n",
       "       <td>Model:</td>       <td>MixedLM</td> <td>Dependent Variable:</td> <td>Q(\"Actual Run Time\")</td>\n",
       "</tr>\n",
       "<tr>\n",
       "  <td>No. Observations:</td> <td>202613</td>        <td>Method:</td>               <td>REML</td>        \n",
       "</tr>\n",
       "<tr>\n",
       "     <td>No. Groups:</td>      <td>12</td>          <td>Scale:</td>               <td>10.7908</td>      \n",
       "</tr>\n",
       "<tr>\n",
       "  <td>Min. group size:</td>   <td>10500</td>    <td>Log-Likelihood:</td>       <td>-528539.7862</td>    \n",
       "</tr>\n",
       "<tr>\n",
       "  <td>Max. group size:</td>   <td>23107</td>      <td>Converged:</td>               <td>Yes</td>        \n",
       "</tr>\n",
       "<tr>\n",
       "  <td>Mean group size:</td>  <td>16884.4</td>          <td></td>                     <td></td>          \n",
       "</tr>\n",
       "</table>\n",
       "<table class=\"simpletable\">\n",
       "<tr>\n",
       "             <td></td>              <th>Coef.</th> <th>Std.Err.</th>     <th>z</th>    <th>P>|z|</th> <th>[0.025</th> <th>0.975]</th>\n",
       "</tr>\n",
       "<tr>\n",
       "  <th>Intercept</th>                <td>2.561</td>   <td>1.276</td>    <td>2.007</td>  <td>0.045</td>  <td>0.060</td>  <td>5.062</td>\n",
       "</tr>\n",
       "<tr>\n",
       "  <th>Q(\"Scheduled Run Time\")</th>  <td>1.000</td>   <td>0.000</td>  <td>3474.848</td> <td>0.000</td>  <td>1.000</td>  <td>1.001</td>\n",
       "</tr>\n",
       "<tr>\n",
       "  <th>Bus Stop ID Var</th>         <td>19.542</td>   <td>2.224</td>      <td></td>       <td></td>       <td></td>       <td></td>   \n",
       "</tr>\n",
       "</table>"
      ],
      "text/plain": [
       "<class 'statsmodels.iolib.summary2.Summary'>\n",
       "\"\"\"\n",
       "               Mixed Linear Model Regression Results\n",
       "====================================================================\n",
       "Model:              MixedLM Dependent Variable: Q(\"Actual Run Time\")\n",
       "No. Observations:   202613  Method:             REML                \n",
       "No. Groups:         12      Scale:              10.7908             \n",
       "Min. group size:    10500   Log-Likelihood:     -528539.7862        \n",
       "Max. group size:    23107   Converged:          Yes                 \n",
       "Mean group size:    16884.4                                         \n",
       "--------------------------------------------------------------------\n",
       "                        Coef.  Std.Err.    z     P>|z| [0.025 0.975]\n",
       "--------------------------------------------------------------------\n",
       "Intercept                2.561    1.276    2.007 0.045  0.060  5.062\n",
       "Q(\"Scheduled Run Time\")  1.000    0.000 3474.848 0.000  1.000  1.001\n",
       "Bus Stop ID Var         19.542    2.224                             \n",
       "====================================================================\n",
       "\n",
       "\"\"\""
      ]
     },
     "metadata": {},
     "execution_count": 26
    }
   ],
   "metadata": {}
  },
  {
   "cell_type": "code",
   "execution_count": 27,
   "source": [
    "fig = plt.figure(figsize = (16, 9))\r\n",
    "\r\n",
    "ax = sns.distplot(model.resid, hist = False, kde_kws = {\"shade\" : True, \"lw\": 1}, fit = stats.norm)\r\n",
    "\r\n",
    "ax.set_title(\"KDE Plot of Model Residuals (Blue) and Normal Distribution (Black)\")\r\n",
    "ax.set_xlabel(\"Residuals\")"
   ],
   "outputs": [
    {
     "output_type": "error",
     "ename": "NameError",
     "evalue": "name 'stats' is not defined",
     "traceback": [
      "\u001b[1;31m---------------------------------------------------------------------------\u001b[0m",
      "\u001b[1;31mNameError\u001b[0m                                 Traceback (most recent call last)",
      "\u001b[1;32m<ipython-input-27-2a6b0038ccf4>\u001b[0m in \u001b[0;36m<module>\u001b[1;34m\u001b[0m\n\u001b[0;32m      1\u001b[0m \u001b[0mfig\u001b[0m \u001b[1;33m=\u001b[0m \u001b[0mplt\u001b[0m\u001b[1;33m.\u001b[0m\u001b[0mfigure\u001b[0m\u001b[1;33m(\u001b[0m\u001b[0mfigsize\u001b[0m \u001b[1;33m=\u001b[0m \u001b[1;33m(\u001b[0m\u001b[1;36m16\u001b[0m\u001b[1;33m,\u001b[0m \u001b[1;36m9\u001b[0m\u001b[1;33m)\u001b[0m\u001b[1;33m)\u001b[0m\u001b[1;33m\u001b[0m\u001b[1;33m\u001b[0m\u001b[0m\n\u001b[0;32m      2\u001b[0m \u001b[1;33m\u001b[0m\u001b[0m\n\u001b[1;32m----> 3\u001b[1;33m \u001b[0max\u001b[0m \u001b[1;33m=\u001b[0m \u001b[0msns\u001b[0m\u001b[1;33m.\u001b[0m\u001b[0mdistplot\u001b[0m\u001b[1;33m(\u001b[0m\u001b[0mmodel\u001b[0m\u001b[1;33m.\u001b[0m\u001b[0mresid\u001b[0m\u001b[1;33m,\u001b[0m \u001b[0mhist\u001b[0m \u001b[1;33m=\u001b[0m \u001b[1;32mFalse\u001b[0m\u001b[1;33m,\u001b[0m \u001b[0mkde_kws\u001b[0m \u001b[1;33m=\u001b[0m \u001b[1;33m{\u001b[0m\u001b[1;34m\"shade\"\u001b[0m \u001b[1;33m:\u001b[0m \u001b[1;32mTrue\u001b[0m\u001b[1;33m,\u001b[0m \u001b[1;34m\"lw\"\u001b[0m\u001b[1;33m:\u001b[0m \u001b[1;36m1\u001b[0m\u001b[1;33m}\u001b[0m\u001b[1;33m,\u001b[0m \u001b[0mfit\u001b[0m \u001b[1;33m=\u001b[0m \u001b[0mstats\u001b[0m\u001b[1;33m.\u001b[0m\u001b[0mnorm\u001b[0m\u001b[1;33m)\u001b[0m\u001b[1;33m\u001b[0m\u001b[1;33m\u001b[0m\u001b[0m\n\u001b[0m\u001b[0;32m      4\u001b[0m \u001b[1;33m\u001b[0m\u001b[0m\n\u001b[0;32m      5\u001b[0m \u001b[0max\u001b[0m\u001b[1;33m.\u001b[0m\u001b[0mset_title\u001b[0m\u001b[1;33m(\u001b[0m\u001b[1;34m\"KDE Plot of Model Residuals (Blue) and Normal Distribution (Black)\"\u001b[0m\u001b[1;33m)\u001b[0m\u001b[1;33m\u001b[0m\u001b[1;33m\u001b[0m\u001b[0m\n",
      "\u001b[1;31mNameError\u001b[0m: name 'stats' is not defined"
     ]
    },
    {
     "output_type": "display_data",
     "data": {
      "text/plain": [
       "<Figure size 1152x648 with 0 Axes>"
      ]
     },
     "metadata": {}
    }
   ],
   "metadata": {}
  },
  {
   "cell_type": "code",
   "execution_count": null,
   "source": [],
   "outputs": [],
   "metadata": {}
  }
 ],
 "metadata": {
  "orig_nbformat": 4,
  "language_info": {
   "name": "python",
   "version": "3.7.4",
   "mimetype": "text/x-python",
   "codemirror_mode": {
    "name": "ipython",
    "version": 3
   },
   "pygments_lexer": "ipython3",
   "nbconvert_exporter": "python",
   "file_extension": ".py"
  },
  "kernelspec": {
   "name": "python3",
   "display_name": "Python 3.7.4 64-bit"
  },
  "interpreter": {
   "hash": "663818bb3c4314dbd47e58b8e65a777ad8ae38914e19ed23958843e13f85a1f6"
  }
 },
 "nbformat": 4,
 "nbformat_minor": 2
}