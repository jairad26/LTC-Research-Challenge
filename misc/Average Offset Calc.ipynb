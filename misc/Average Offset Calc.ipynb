{
 "cells": [
  {
   "cell_type": "code",
   "execution_count": 19,
   "metadata": {},
   "outputs": [],
   "source": [
    "import pandas as pd \n",
    "import numpy as np"
   ]
  },
  {
   "cell_type": "code",
   "execution_count": 20,
   "metadata": {},
   "outputs": [],
   "source": [
    "df = pd.read_csv('data/2019 Line 187 allscripts.csv')\n",
    "avg187_2019 = df['Difference (Minutes)'].abs().mean()\n",
    "\n",
    "df = pd.read_csv('data/2020 Line 187 allscripts.csv')\n",
    "avg187_2020 = df['Difference (Minutes)'].abs().mean()\n",
    "\n",
    "df = pd.read_csv('data/2021 Line 187 allscripts.csv')\n",
    "avg187_2021 = df['Difference (Minutes)'].abs().mean()"
   ]
  },
  {
   "cell_type": "code",
   "execution_count": 21,
   "metadata": {},
   "outputs": [],
   "source": [
    "df = pd.read_csv('data/2019 Line 188 allscripts.csv')\n",
    "avg188_2019 = df['Difference (Minutes)'].abs().mean()\n",
    "\n",
    "df = pd.read_csv('data/2020 Line 188 allscripts.csv')\n",
    "avg188_2020 = df['Difference (Minutes)'].abs().mean()\n",
    "\n",
    "df = pd.read_csv('data/2021 Line 188 allscripts.csv')\n",
    "avg188_2021 = df['Difference (Minutes)'].abs().mean()"
   ]
  },
  {
   "cell_type": "code",
   "execution_count": 22,
   "metadata": {},
   "outputs": [
    {
     "name": "stderr",
     "output_type": "stream",
     "text": [
      "C:\\Users\\danie\\AppData\\Local\\Programs\\Python\\Python39\\lib\\site-packages\\IPython\\core\\interactiveshell.py:3441: DtypeWarning: Columns (24) have mixed types.Specify dtype option on import or set low_memory=False.\n",
      "  exec(code_obj, self.user_global_ns, self.user_ns)\n"
     ]
    }
   ],
   "source": [
    "df = pd.read_csv('data/2019 Line 280 AVL allscripts.csv')\n",
    "avg280_2019 = df['Difference (Minutes)'].abs().mean()\n",
    "\n",
    "df = pd.read_csv('data/2020 Line 280 AVL allscripts.csv')\n",
    "avg280_2020 = df['Difference (Minutes)'].abs().mean()\n",
    "\n",
    "# df = pd.read_csv('data/2021 Line 280 AVL allscripts.csv')\n",
    "# avg280_2021 = df['Difference (Minutes)'].abs().mean()"
   ]
  },
  {
   "cell_type": "code",
   "execution_count": 27,
   "metadata": {},
   "outputs": [],
   "source": [
    "df = pd.read_csv('data/2019 Silver Streak allscripts.csv')\n",
    "avg707_2019 = df['Difference (Minutes)'].abs().mean()\n",
    "\n",
    "df = pd.read_csv('data/2020 Silver Streak allscripts.csv')\n",
    "avg707_2020 = df['Difference (Minutes)'].abs().mean()\n",
    "\n",
    "# df = pd.read_csv('data/2021 Silver Streak prevdepoffset.csv')\n",
    "# avg707_2021 = df['Difference (Minutes)'].astype(int).abs().mean()"
   ]
  },
  {
   "cell_type": "code",
   "execution_count": 35,
   "metadata": {},
   "outputs": [
    {
     "data": {
      "image/png": "[encoded data removed]",
      "text/plain": [
       "<Figure size 432x288 with 1 Axes>"
      ]
     },
     "metadata": {
      "needs_background": "light"
     },
     "output_type": "display_data"
    }
   ],
   "source": [
    "import matplotlib.pyplot as plt \n",
    "  \n",
    "X = ['2019','2020','2021']\n",
    "avg187 = [avg187_2019,avg187_2020, avg187_2021]\n",
    "avg188 = [avg188_2019,avg188_2020, avg188_2021]\n",
    "avg280 = [avg280_2019,avg280_2020, 0]\n",
    "avg707 = [avg707_2019,avg707_2020, 5.2966]\n",
    "  \n",
    "X_axis = np.arange(len(X))\n",
    "  \n",
    "plt.bar(X_axis - 0.3, avg187, 0.2, label = '187')\n",
    "plt.bar(X_axis - 0.1, avg188, 0.2, label = '188')\n",
    "plt.bar(X_axis + 0.1, avg280, 0.2, label = '280')\n",
    "plt.bar(X_axis + 0.3, avg707, 0.2, label = 'Silver Streak')\n",
    "  \n",
    "plt.xticks(X_axis, X)\n",
    "plt.ylabel(\"Average Departure Offset [Minutes]\")\n",
    "plt.title(\"Average Departure Offset\")\n",
    "plt.legend()\n",
    "plt.show()"
   ]
  }
 ],
 "metadata": {
  "interpreter": {
   "hash": "9518128f597d7b00dc14729602cfd87fb7b2cf75925976bcb0d0e328a830a12b"
  },
  "kernelspec": {
   "display_name": "Python 3.9.6 64-bit",
   "language": "python",
   "name": "python3"
  },
  "language_info": {
   "codemirror_mode": {
    "name": "ipython",
    "version": 3
   },
   "file_extension": ".py",
   "mimetype": "text/x-python",
   "name": "python",
   "nbconvert_exporter": "python",
   "pygments_lexer": "ipython3",
   "version": "3.9.6"
  },
  "orig_nbformat": 4
 },
 "nbformat": 4,
 "nbformat_minor": 2
}
