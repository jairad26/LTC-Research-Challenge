{
 "cells": [
  {
   "cell_type": "code",
   "execution_count": 22,
   "metadata": {},
   "outputs": [],
   "source": [
    "import pandas as pd \n",
    "\n",
    "df = pd.read_csv('data/2020 Line 280 AVL allscripts.csv')\n",
    "df['Actual Depart Hour'] = df['Actual Depart'].str.split(':',expand=True)[0]\n",
    "df['Actual Depart Hour'] = df['Actual Depart Hour'].astype(int)\n",
    "df['Transit Date Month'] = df['Transit Date'].str.split('/',expand=True)[0]\n",
    "df['Transit Date Month'] = df['Transit Date Month'].astype(int)\n",
    "df['Bus Stop ID'] = df['Bus Stop ID'].astype(int)"
   ]
  },
  {
   "cell_type": "code",
   "execution_count": 23,
   "metadata": {},
   "outputs": [
    {
     "name": "stderr",
     "output_type": "stream",
     "text": [
      "C:\\Users\\marti\\AppData\\Local\\Temp/ipykernel_3844/2813783610.py:14: FutureWarning: In a future version of pandas all arguments of DataFrame.drop except for the argument 'labels' will be keyword-only\n",
      "  df1.drop(['Actual Arrival','Bus Stop Name','Pattern','Longitude','Latitude','Reported Performance Results',\\\n",
      "C:\\Users\\marti\\AppData\\Local\\Temp/ipykernel_3844/2813783610.py:23: PerformanceWarning: DataFrame is highly fragmented.  This is usually the result of calling `frame.insert` many times, which has poor performance.  Consider using pd.concat instead.  To get a de-fragmented frame, use `newframe = frame.copy()`\n",
      "  results[column] = [column, stopactual['Difference (Minutes)'].corr(df1[column])]\n"
     ]
    },
    {
     "name": "stdout",
     "output_type": "stream",
     "text": [
      "                                         0         1\n",
      "Vehicle #                        Vehicle # -0.004512\n",
      "Difference (Minutes)  Difference (Minutes)       1.0\n",
      "Dwell Time                      Dwell Time -0.105729\n",
      "Scheduled Run Time      Scheduled Run Time  0.004489\n",
      "Actual Run Time            Actual Run Time -0.004037\n"
     ]
    }
   ],
   "source": [
    "stopactual = df.copy()\n",
    "stopactual['Difference (Minutes)'] = stopactual['Difference (Minutes)'].astype(int)\n",
    "stopactual['Prev Departure Offset'] = stopactual['Prev Departure Offset'].astype(int)\n",
    "#stopactual['Badge #'] = stopactual['Badge #'].astype(int)\n",
    "\n",
    "\n",
    "df1 = pd.get_dummies(stopactual, columns=['Actual Depart', 'Transit Date Month', 'Day of Week','Scheduled Depart',\\\n",
    "    'Miles from Prior Time Point', 'Bus Stop ID','Block #','Route #','Trip #','Direction','Stop Sequence',\\\n",
    "    ],prefix=['Enc_Actual_Hour_Depart_', 'Enc_Month_', 'Enc_Day_',\\\n",
    "        'Enc_Miles_', 'Enc_Stop_','Enc_Block_Number_','Enc_Route_Number_','Enc_Trip_#','Enc_Direciton_','Enc_Stop_Sequence_','Enc_Scheduled_Depart_',\\\n",
    "        ])\n",
    "\n",
    "\n",
    "# print(df1.head())\n",
    "df1.drop(['Actual Arrival','Bus Stop Name','Pattern','Longitude','Latitude','Reported Performance Results',\\\n",
    "    'Waivers','Day Type','Scheduled Depart DateTime','Actual Depart DateTime','Same Stop Prev Trip Departure Offset','Scheduled Operating Speed',\\\n",
    "        'Actual Operating Speed','Time Period'], 1, inplace=True)\n",
    "\n",
    "# print(df1.head)\n",
    "results = pd.DataFrame()\n",
    "\n",
    "for column in df1.columns:\n",
    "    df1[column] = df1[column].astype(int)\n",
    "    results[column] = [column, stopactual['Difference (Minutes)'].corr(df1[column])]\n",
    "results = results.transpose()\n",
    "print(results.head())\n",
    "\n",
    "results.to_csv('2020 Line 280 correlations.csv',index=False,header=False)"
   ]
  }
 ],
 "metadata": {
  "interpreter": {
   "hash": "9518128f597d7b00dc14729602cfd87fb7b2cf75925976bcb0d0e328a830a12b"
  },
  "kernelspec": {
   "display_name": "Python 3.9.6 64-bit",
   "language": "python",
   "name": "python3"
  },
  "language_info": {
   "codemirror_mode": {
    "name": "ipython",
    "version": 3
   },
   "file_extension": ".py",
   "mimetype": "text/x-python",
   "name": "python",
   "nbconvert_exporter": "python",
   "pygments_lexer": "ipython3",
   "version": "3.9.11"
  },
  "orig_nbformat": 4
 },
 "nbformat": 4,
 "nbformat_minor": 2
}
