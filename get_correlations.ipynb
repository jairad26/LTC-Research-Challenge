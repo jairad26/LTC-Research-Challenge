{
 "cells": [
  {
   "cell_type": "code",
   "execution_count": 19,
   "metadata": {},
   "outputs": [],
   "source": [
    "import pandas as pd \n",
    "\n",
    "df = pd.read_csv('data/2019 Line 188 allscripts.csv')\n",
    "df['Actual Depart Hour'] = df['Actual Depart'].str.split(':',expand=True)[0]\n",
    "df['Actual Depart Hour'] = df['Actual Depart Hour'].astype(int)\n",
    "df['Transit Date Month'] = df['Transit Date'].str.split('/',expand=True)[0]\n",
    "df['Transit Date Month'] = df['Transit Date Month'].astype(int)\n",
    "df['Bus Stop ID'] = df['Bus Stop ID'].astype(int)"
   ]
  },
  {
   "cell_type": "code",
   "execution_count": 20,
   "metadata": {},
   "outputs": [
    {
     "name": "stderr",
     "output_type": "stream",
     "text": [
      "C:\\Users\\danie\\AppData\\Local\\Temp/ipykernel_16700/358794161.py:12: FutureWarning: In a future version of pandas all arguments of DataFrame.drop except for the argument 'labels' will be keyword-only\n",
      "  df1.drop(['Transit Date','Actual Arrival','Actual Depart'], 1, inplace=True)\n",
      "C:\\Users\\danie\\AppData\\Local\\Temp/ipykernel_16700/358794161.py:18: PerformanceWarning: DataFrame is highly fragmented.  This is usually the result of calling `frame.insert` many times, which has poor performance.  Consider using pd.concat instead.  To get a de-fragmented frame, use `newframe = frame.copy()`\n",
      "  results[column] = [column, stopactual['Difference (Minutes)'].corr(df1[column])]\n"
     ]
    },
    {
     "name": "stdout",
     "output_type": "stream",
     "text": [
      "                                         0         1\n",
      "Block #                            Block #  0.013668\n",
      "Stop Sequence                Stop Sequence -0.222453\n",
      "Latitude                          Latitude       NaN\n",
      "Longitude                        Longitude       NaN\n",
      "Difference (Minutes)  Difference (Minutes)       1.0\n"
     ]
    }
   ],
   "source": [
    "stopactual = df.copy()\n",
    "stopactual['Difference (Minutes)'] = stopactual['Difference (Minutes)'].astype(int)\n",
    "stopactual['Prev Departure Offset'] = stopactual['Prev Departure Offset'].astype(int)\n",
    "#stopactual['Badge #'] = stopactual['Badge #'].astype(int)\n",
    "\n",
    "df1 = pd.get_dummies(stopactual, columns=['Actual Depart Hour', 'Transit Date Month', 'Day of Week', \\\n",
    "    'Miles from Prior Time Point', 'Bus Stop ID', 'Badge #'],prefix=['Enc_Hour_', 'Enc_Month_', 'Enc_Day_',\\\n",
    "        'Enc_Miles_', 'Enc_Stop_', 'Enc_Badge_'])\n",
    "\n",
    "\n",
    "#print(df1.head())\n",
    "df1.drop(['Transit Date','Actual Arrival','Actual Depart'], 1, inplace=True)\n",
    "\n",
    "results = pd.DataFrame()\n",
    "\n",
    "for column in df1.columns:\n",
    "    df1[column] = df1[column].astype(int)\n",
    "    results[column] = [column, stopactual['Difference (Minutes)'].corr(df1[column])]\n",
    "results = results.transpose()\n",
    "print(results.head())\n",
    "\n",
    "results.to_csv('2019 Line 188 correlations.csv',index=False,header=False)"
   ]
  }
 ],
 "metadata": {
  "interpreter": {
   "hash": "9518128f597d7b00dc14729602cfd87fb7b2cf75925976bcb0d0e328a830a12b"
  },
  "kernelspec": {
   "display_name": "Python 3.9.6 64-bit",
   "language": "python",
   "name": "python3"
  },
  "language_info": {
   "codemirror_mode": {
    "name": "ipython",
    "version": 3
   },
   "file_extension": ".py",
   "mimetype": "text/x-python",
   "name": "python",
   "nbconvert_exporter": "python",
   "pygments_lexer": "ipython3",
   "version": "3.9.6"
  },
  "orig_nbformat": 4
 },
 "nbformat": 4,
 "nbformat_minor": 2
}
