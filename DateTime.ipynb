{
 "cells": [
  {
   "cell_type": "code",
   "execution_count": 49,
   "source": [
    "import pandas as pd\r\n",
    "import os\r\n",
    "import matplotlib.pyplot as plt\r\n",
    "import datetime as dt"
   ],
   "outputs": [],
   "metadata": {}
  },
  {
   "cell_type": "code",
   "execution_count": 50,
   "source": [
    "pwd = os.getcwd()"
   ],
   "outputs": [],
   "metadata": {}
  },
  {
   "cell_type": "code",
   "execution_count": 51,
   "source": [
    "filepath = pwd + \"/2019_Line_280_AVL.csv\""
   ],
   "outputs": [],
   "metadata": {}
  },
  {
   "cell_type": "code",
   "execution_count": 52,
   "source": [
    "first_import = pd.read_csv(filepath)"
   ],
   "outputs": [],
   "metadata": {}
  },
  {
   "cell_type": "code",
   "execution_count": 53,
   "source": [
    "Date_time_copy = first_import"
   ],
   "outputs": [],
   "metadata": {}
  },
  {
   "cell_type": "code",
   "execution_count": 54,
   "source": [
    "Date_time_copy['Scheduled Depart DateTime'] = Date_time_copy['Transit Date'] + ' ' + Date_time_copy['Scheduled Depart']\r\n",
    "Date_time_copy['Scheduled Depart DateTime'] = pd.to_datetime(Date_time_copy['Scheduled Depart DateTime'])"
   ],
   "outputs": [],
   "metadata": {}
  },
  {
   "cell_type": "code",
   "execution_count": 55,
   "source": [
    "Date_time_copy['Scheduled Depart DateTime'].sort_values(ascending = True)"
   ],
   "outputs": [
    {
     "output_type": "execute_result",
     "data": {
      "text/plain": [
       "202602   2019-01-02 07:15:00\n",
       "202603   2019-01-02 07:23:00\n",
       "202604   2019-01-02 07:29:00\n",
       "202605   2019-01-02 07:38:00\n",
       "202606   2019-01-02 07:45:00\n",
       "                 ...        \n",
       "300      2019-12-31 23:45:00\n",
       "301      2019-12-31 23:45:00\n",
       "615      2019-12-31 23:45:00\n",
       "302      2019-12-31 23:50:00\n",
       "303      2019-12-31 23:57:00\n",
       "Name: Scheduled Depart DateTime, Length: 202613, dtype: datetime64[ns]"
      ]
     },
     "metadata": {},
     "execution_count": 55
    }
   ],
   "metadata": {}
  },
  {
   "cell_type": "code",
   "execution_count": 56,
   "source": [
    "df = first_import\r\n",
    "df['Transit Date'] = pd.to_datetime(df['Transit Date'])\r\n",
    "df['Transit Date'].sort_values(ascending = True)"
   ],
   "outputs": [
    {
     "output_type": "execute_result",
     "data": {
      "text/plain": [
       "202612   2019-01-02\n",
       "202602   2019-01-02\n",
       "202603   2019-01-02\n",
       "202604   2019-01-02\n",
       "202605   2019-01-02\n",
       "            ...    \n",
       "408      2019-12-31\n",
       "407      2019-12-31\n",
       "406      2019-12-31\n",
       "413      2019-12-31\n",
       "0        2019-12-31\n",
       "Name: Transit Date, Length: 202613, dtype: datetime64[ns]"
      ]
     },
     "metadata": {},
     "execution_count": 56
    }
   ],
   "metadata": {}
  },
  {
   "cell_type": "code",
   "execution_count": 57,
   "source": [
    "df['Scheduled Depart'] = pd.to_datetime(df['Scheduled Depart'])\r\n",
    "df['Scheduled Depart'].sort_values(ascending = True)"
   ],
   "outputs": [
    {
     "output_type": "execute_result",
     "data": {
      "text/plain": [
       "33390    2021-09-12 00:00:00\n",
       "84105    2021-09-12 00:00:00\n",
       "151514   2021-09-12 00:00:00\n",
       "131151   2021-09-12 00:00:00\n",
       "92833    2021-09-12 00:00:00\n",
       "                 ...        \n",
       "62226    2021-09-12 23:59:00\n",
       "137933   2021-09-12 23:59:00\n",
       "146737   2021-09-12 23:59:00\n",
       "17704    2021-09-12 23:59:00\n",
       "71227    2021-09-12 23:59:00\n",
       "Name: Scheduled Depart, Length: 202613, dtype: datetime64[ns]"
      ]
     },
     "metadata": {},
     "execution_count": 57
    }
   ],
   "metadata": {}
  },
  {
   "cell_type": "code",
   "execution_count": 58,
   "source": [
    "df['Actual Depart'] = pd.to_datetime(df['Actual Depart'])\r\n",
    "df['Actual Depart'].sort_values(ascending = True)"
   ],
   "outputs": [
    {
     "output_type": "execute_result",
     "data": {
      "text/plain": [
       "79226    2021-09-12 00:00:00\n",
       "190674   2021-09-12 00:00:00\n",
       "190673   2021-09-12 00:00:00\n",
       "84105    2021-09-12 00:00:00\n",
       "84104    2021-09-12 00:00:00\n",
       "                 ...        \n",
       "77831    2021-09-12 23:59:00\n",
       "159039   2021-09-12 23:59:00\n",
       "77830    2021-09-12 23:59:00\n",
       "134358   2021-09-12 23:59:00\n",
       "197133   2021-09-12 23:59:00\n",
       "Name: Actual Depart, Length: 202613, dtype: datetime64[ns]"
      ]
     },
     "metadata": {},
     "execution_count": 58
    }
   ],
   "metadata": {}
  }
 ],
 "metadata": {
  "orig_nbformat": 4,
  "language_info": {
   "name": "python",
   "version": "3.9.7",
   "mimetype": "text/x-python",
   "codemirror_mode": {
    "name": "ipython",
    "version": 3
   },
   "pygments_lexer": "ipython3",
   "nbconvert_exporter": "python",
   "file_extension": ".py"
  },
  "kernelspec": {
   "name": "python3",
   "display_name": "Python 3.9.7 64-bit ('minimal_ds': conda)"
  },
  "interpreter": {
   "hash": "499186a0898257af8fe1c3ca82e33f6b16d12d3e4b4e294ded47a3ec3f6e63bc"
  }
 },
 "nbformat": 4,
 "nbformat_minor": 2
}